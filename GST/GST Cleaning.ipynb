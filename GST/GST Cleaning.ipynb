{
 "cells": [
  {
   "cell_type": "code",
   "execution_count": 1,
   "metadata": {},
   "outputs": [],
   "source": [
    "import pandas as pd\n",
    "import numpy as np\n",
    "import datetime"
   ]
  },
  {
   "cell_type": "code",
   "execution_count": 2,
   "metadata": {},
   "outputs": [],
   "source": [
    "# xls = pd.ExcelFile('Data Sheet for Interns - Copy.xlsx')\n",
    "gst = pd.read_excel('Data Sheet for Interns.xlsx', 'GST', header=1)"
   ]
  },
  {
   "cell_type": "code",
   "execution_count": 3,
   "metadata": {},
   "outputs": [],
   "source": [
    "gst.dropna(axis = 0, how = 'all', inplace = True)"
   ]
  },
  {
   "cell_type": "code",
   "execution_count": 4,
   "metadata": {},
   "outputs": [],
   "source": [
    "indexNames = gst[ (gst['Owner'] == 'Owner')].index\n",
    "# Delete these row indexes from dataFrame\n",
    "gst.drop(indexNames , inplace=True)"
   ]
  },
  {
   "cell_type": "code",
   "execution_count": 5,
   "metadata": {},
   "outputs": [],
   "source": [
    "gst = gst[gst['Owner'].notna()]"
   ]
  },
  {
   "cell_type": "code",
   "execution_count": 6,
   "metadata": {},
   "outputs": [],
   "source": [
    "gst = gst[gst['Month'].notna()]"
   ]
  },
  {
   "cell_type": "code",
   "execution_count": 7,
   "metadata": {},
   "outputs": [],
   "source": [
    "gst.drop(['Fees Pending'], axis = 1, inplace=True)"
   ]
  },
  {
   "cell_type": "code",
   "execution_count": 8,
   "metadata": {},
   "outputs": [],
   "source": [
    "gst.rename(columns={\"Owner\": \"Councellor Name\", 'Month': 'Date'}, inplace=True)"
   ]
  },
  {
   "cell_type": "code",
   "execution_count": 9,
   "metadata": {},
   "outputs": [],
   "source": [
    "for index, row in gst.iterrows():\n",
    "    x = gst['Course Name'][index]\n",
    "    if not isinstance(gst['Date'][index], datetime.datetime):\n",
    "        gst.drop([index], inplace=True)\n",
    "    if isinstance(x, datetime.date):\n",
    "        gst['Course Name'][index] = 'Na'\n",
    "    elif (type(x) == str and (\"/\" in x)):\n",
    "        gst['Course Name'][index] = 'Na'"
   ]
  },
  {
   "cell_type": "code",
   "execution_count": 10,
   "metadata": {},
   "outputs": [],
   "source": [
    "gst['Course Name'] = gst['Course Name'].str.upper()"
   ]
  },
  {
   "cell_type": "code",
   "execution_count": 11,
   "metadata": {},
   "outputs": [],
   "source": [
    "gst['Course Name'].replace('NA','GST',inplace=True)\n",
    "gst['Course Name'].replace('NILL','GST',inplace=True)\n",
    "gst['Course Name'].replace(np.nan,'GST',inplace=True)"
   ]
  },
  {
   "cell_type": "code",
   "execution_count": 12,
   "metadata": {},
   "outputs": [
    {
     "data": {
      "text/plain": [
       "Date               0\n",
       "Councellor Name    0\n",
       "Course Name        0\n",
       "Fees Received      0\n",
       "Fees Total         7\n",
       "dtype: int64"
      ]
     },
     "execution_count": 12,
     "metadata": {},
     "output_type": "execute_result"
    }
   ],
   "source": [
    "gst.isnull().sum()"
   ]
  },
  {
   "cell_type": "code",
   "execution_count": 13,
   "metadata": {},
   "outputs": [],
   "source": [
    "gstitToReplace = ['GST  AND INCOME TAX',\n",
    "'GST & INCOMETAX',\n",
    "'GST & IT',\n",
    "'GST &IT',\n",
    "'GST + INCOME TAX',\n",
    "'GST + IT SELF PACED',\n",
    "'GST AND INCOME TA',\n",
    "'GST AND INOME TAX',\n",
    "'GST AND IT',\n",
    "'GST+ INCOME TAX']\n",
    "\n",
    "gstit = \"GST AND INCOME TAX\""
   ]
  },
  {
   "cell_type": "code",
   "execution_count": 14,
   "metadata": {},
   "outputs": [],
   "source": [
    "itToReplace = ['INCOME TAX  SELF PACE',\n",
    "'IT',\n",
    "'INCOMETAX']\n",
    "\n",
    "it = 'INCOME TAX'"
   ]
  },
  {
   "cell_type": "code",
   "execution_count": 15,
   "metadata": {},
   "outputs": [],
   "source": [
    "sapficoToReplace = ['SAP AND FICCO',\n",
    "'SAP AND FICO',\n",
    "'SAP FICCO',\n",
    "'SAP FICO INTERNSHIP',\n",
    "'SAP-FICO']\n",
    "\n",
    "sapfico = 'SAP FICO'"
   ]
  },
  {
   "cell_type": "code",
   "execution_count": 16,
   "metadata": {},
   "outputs": [],
   "source": [
    "def toReplace(listOfWords, toReplaceIn):\n",
    "    for x in listOfWords:\n",
    "        gst['Course Name'].replace(x, toReplaceIn,inplace=True)"
   ]
  },
  {
   "cell_type": "code",
   "execution_count": 17,
   "metadata": {},
   "outputs": [],
   "source": [
    "toReplace(gstitToReplace, gstit)"
   ]
  },
  {
   "cell_type": "code",
   "execution_count": 18,
   "metadata": {},
   "outputs": [],
   "source": [
    "toReplace(itToReplace, it)"
   ]
  },
  {
   "cell_type": "code",
   "execution_count": 19,
   "metadata": {},
   "outputs": [],
   "source": [
    "toReplace(sapficoToReplace, sapfico)"
   ]
  },
  {
   "cell_type": "code",
   "execution_count": 20,
   "metadata": {},
   "outputs": [],
   "source": [
    "gst['Course Name'].replace('SAP-FICO & ADV. EXCEL', 'SAP-FICO & ADVANCE EXCEL',inplace=True)"
   ]
  },
  {
   "cell_type": "code",
   "execution_count": 21,
   "metadata": {},
   "outputs": [
    {
     "data": {
      "text/plain": [
       "Date               0\n",
       "Councellor Name    0\n",
       "Course Name        0\n",
       "Fees Received      0\n",
       "Fees Total         7\n",
       "dtype: int64"
      ]
     },
     "execution_count": 21,
     "metadata": {},
     "output_type": "execute_result"
    }
   ],
   "source": [
    "gst.isnull().sum()"
   ]
  },
  {
   "cell_type": "code",
   "execution_count": 22,
   "metadata": {},
   "outputs": [],
   "source": [
    "gst.dropna(inplace = True)"
   ]
  },
  {
   "cell_type": "code",
   "execution_count": 23,
   "metadata": {},
   "outputs": [
    {
     "data": {
      "text/plain": [
       "Date               0\n",
       "Councellor Name    0\n",
       "Course Name        0\n",
       "Fees Received      0\n",
       "Fees Total         0\n",
       "dtype: int64"
      ]
     },
     "execution_count": 23,
     "metadata": {},
     "output_type": "execute_result"
    }
   ],
   "source": [
    "gst.isnull().sum()"
   ]
  },
  {
   "cell_type": "code",
   "execution_count": 24,
   "metadata": {},
   "outputs": [
    {
     "data": {
      "text/plain": [
       "779962"
      ]
     },
     "execution_count": 24,
     "metadata": {},
     "output_type": "execute_result"
    }
   ],
   "source": [
    "gst['Councellor Name'][465]"
   ]
  },
  {
   "cell_type": "code",
   "execution_count": 25,
   "metadata": {},
   "outputs": [],
   "source": [
    "gst.drop([465], inplace=True)"
   ]
  },
  {
   "cell_type": "code",
   "execution_count": 26,
   "metadata": {},
   "outputs": [],
   "source": [
    "courseCount = gst['Course Name'].value_counts().to_frame()"
   ]
  },
  {
   "cell_type": "code",
   "execution_count": 27,
   "metadata": {},
   "outputs": [],
   "source": [
    "coursesWithOneAppearance = courseCount[ (courseCount['Course Name'] == 1)].index"
   ]
  },
  {
   "cell_type": "code",
   "execution_count": 28,
   "metadata": {},
   "outputs": [],
   "source": [
    "gst.reset_index(drop=True, inplace= True)"
   ]
  },
  {
   "cell_type": "code",
   "execution_count": 29,
   "metadata": {},
   "outputs": [
    {
     "data": {
      "text/html": [
       "<div>\n",
       "<style scoped>\n",
       "    .dataframe tbody tr th:only-of-type {\n",
       "        vertical-align: middle;\n",
       "    }\n",
       "\n",
       "    .dataframe tbody tr th {\n",
       "        vertical-align: top;\n",
       "    }\n",
       "\n",
       "    .dataframe thead th {\n",
       "        text-align: right;\n",
       "    }\n",
       "</style>\n",
       "<table border=\"1\" class=\"dataframe\">\n",
       "  <thead>\n",
       "    <tr style=\"text-align: right;\">\n",
       "      <th></th>\n",
       "      <th>Date</th>\n",
       "      <th>Councellor Name</th>\n",
       "      <th>Course Name</th>\n",
       "      <th>Fees Received</th>\n",
       "      <th>Fees Total</th>\n",
       "    </tr>\n",
       "  </thead>\n",
       "  <tbody>\n",
       "    <tr>\n",
       "      <th>0</th>\n",
       "      <td>2020-04-01 00:00:00</td>\n",
       "      <td>Pooja</td>\n",
       "      <td>GST</td>\n",
       "      <td>7500</td>\n",
       "      <td>7500</td>\n",
       "    </tr>\n",
       "    <tr>\n",
       "      <th>1</th>\n",
       "      <td>2020-04-01 00:00:00</td>\n",
       "      <td>Deepak</td>\n",
       "      <td>GST</td>\n",
       "      <td>8550</td>\n",
       "      <td>8550</td>\n",
       "    </tr>\n",
       "    <tr>\n",
       "      <th>2</th>\n",
       "      <td>2020-04-01 00:00:00</td>\n",
       "      <td>Pooja</td>\n",
       "      <td>GST</td>\n",
       "      <td>6750</td>\n",
       "      <td>6750</td>\n",
       "    </tr>\n",
       "    <tr>\n",
       "      <th>3</th>\n",
       "      <td>2020-04-01 00:00:00</td>\n",
       "      <td>Deepak</td>\n",
       "      <td>GST</td>\n",
       "      <td>8550</td>\n",
       "      <td>8550</td>\n",
       "    </tr>\n",
       "    <tr>\n",
       "      <th>4</th>\n",
       "      <td>2020-04-01 00:00:00</td>\n",
       "      <td>Deepak</td>\n",
       "      <td>GST</td>\n",
       "      <td>5000</td>\n",
       "      <td>5000</td>\n",
       "    </tr>\n",
       "    <tr>\n",
       "      <th>...</th>\n",
       "      <td>...</td>\n",
       "      <td>...</td>\n",
       "      <td>...</td>\n",
       "      <td>...</td>\n",
       "      <td>...</td>\n",
       "    </tr>\n",
       "    <tr>\n",
       "      <th>1109</th>\n",
       "      <td>2021-07-01 00:00:00</td>\n",
       "      <td>Urvashi</td>\n",
       "      <td>GST</td>\n",
       "      <td>10000</td>\n",
       "      <td>10000</td>\n",
       "    </tr>\n",
       "    <tr>\n",
       "      <th>1110</th>\n",
       "      <td>2021-07-01 00:00:00</td>\n",
       "      <td>Poonam</td>\n",
       "      <td>SAP MM</td>\n",
       "      <td>20650</td>\n",
       "      <td>20650</td>\n",
       "    </tr>\n",
       "    <tr>\n",
       "      <th>1111</th>\n",
       "      <td>2021-07-01 00:00:00</td>\n",
       "      <td>Ajay</td>\n",
       "      <td>SAP MM</td>\n",
       "      <td>5000</td>\n",
       "      <td>23600</td>\n",
       "    </tr>\n",
       "    <tr>\n",
       "      <th>1112</th>\n",
       "      <td>2021-07-01 00:00:00</td>\n",
       "      <td>Ajay</td>\n",
       "      <td>SAP FICO</td>\n",
       "      <td>23600</td>\n",
       "      <td>23600</td>\n",
       "    </tr>\n",
       "    <tr>\n",
       "      <th>1113</th>\n",
       "      <td>2021-07-01 00:00:00</td>\n",
       "      <td>Ajay</td>\n",
       "      <td>SAP MM</td>\n",
       "      <td>20750</td>\n",
       "      <td>20750</td>\n",
       "    </tr>\n",
       "  </tbody>\n",
       "</table>\n",
       "<p>1114 rows × 5 columns</p>\n",
       "</div>"
      ],
      "text/plain": [
       "                     Date Councellor Name Course Name Fees Received Fees Total\n",
       "0     2020-04-01 00:00:00           Pooja         GST          7500       7500\n",
       "1     2020-04-01 00:00:00          Deepak         GST          8550       8550\n",
       "2     2020-04-01 00:00:00           Pooja         GST          6750       6750\n",
       "3     2020-04-01 00:00:00          Deepak         GST          8550       8550\n",
       "4     2020-04-01 00:00:00          Deepak         GST          5000       5000\n",
       "...                   ...             ...         ...           ...        ...\n",
       "1109  2021-07-01 00:00:00         Urvashi         GST         10000      10000\n",
       "1110  2021-07-01 00:00:00          Poonam      SAP MM         20650      20650\n",
       "1111  2021-07-01 00:00:00            Ajay      SAP MM          5000      23600\n",
       "1112  2021-07-01 00:00:00            Ajay    SAP FICO         23600      23600\n",
       "1113  2021-07-01 00:00:00            Ajay      SAP MM         20750      20750\n",
       "\n",
       "[1114 rows x 5 columns]"
      ]
     },
     "execution_count": 29,
     "metadata": {},
     "output_type": "execute_result"
    }
   ],
   "source": [
    "gst"
   ]
  },
  {
   "cell_type": "code",
   "execution_count": 30,
   "metadata": {},
   "outputs": [],
   "source": [
    "gst.to_excel(\"cleaned_GST.xlsx\")"
   ]
  }
 ],
 "metadata": {
  "kernelspec": {
   "display_name": "Python 3",
   "language": "python",
   "name": "python3"
  },
  "language_info": {
   "codemirror_mode": {
    "name": "ipython",
    "version": 3
   },
   "file_extension": ".py",
   "mimetype": "text/x-python",
   "name": "python",
   "nbconvert_exporter": "python",
   "pygments_lexer": "ipython3",
   "version": "3.8.8"
  }
 },
 "nbformat": 4,
 "nbformat_minor": 4
}
