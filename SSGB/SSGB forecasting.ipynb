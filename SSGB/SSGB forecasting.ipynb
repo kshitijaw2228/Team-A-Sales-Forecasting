{
 "cells": [
  {
   "cell_type": "code",
   "execution_count": 83,
   "id": "71e45fee",
   "metadata": {},
   "outputs": [],
   "source": [
    "# for mathemaical operations\n",
    "import numpy as np\n",
    "# for dataframe manipulations\n",
    "import pandas as pd\n",
    "import warnings\n",
    "warnings.filterwarnings('ignore')\n",
    "warnings.warn('Do not show this message')"
   ]
  },
  {
   "cell_type": "code",
   "execution_count": 2,
   "id": "946523ce",
   "metadata": {},
   "outputs": [
    {
     "data": {
      "text/plain": [
       "(1486, 6)"
      ]
     },
     "execution_count": 2,
     "metadata": {},
     "output_type": "execute_result"
    }
   ],
   "source": [
    "data = pd.read_excel('SSGB.xlsx')\n",
    "data.shape"
   ]
  },
  {
   "cell_type": "code",
   "execution_count": 3,
   "id": "2d939c58",
   "metadata": {},
   "outputs": [
    {
     "data": {
      "text/html": [
       "<div>\n",
       "<style scoped>\n",
       "    .dataframe tbody tr th:only-of-type {\n",
       "        vertical-align: middle;\n",
       "    }\n",
       "\n",
       "    .dataframe tbody tr th {\n",
       "        vertical-align: top;\n",
       "    }\n",
       "\n",
       "    .dataframe thead th {\n",
       "        text-align: right;\n",
       "    }\n",
       "</style>\n",
       "<table border=\"1\" class=\"dataframe\">\n",
       "  <thead>\n",
       "    <tr style=\"text-align: right;\">\n",
       "      <th></th>\n",
       "      <th>Date</th>\n",
       "      <th>Councellor Name</th>\n",
       "      <th>Course Type</th>\n",
       "      <th>Fees Received</th>\n",
       "      <th>Fees Total</th>\n",
       "      <th>Fees Pending</th>\n",
       "    </tr>\n",
       "  </thead>\n",
       "  <tbody>\n",
       "    <tr>\n",
       "      <th>0</th>\n",
       "      <td>2020-04-01</td>\n",
       "      <td>Manish</td>\n",
       "      <td>SSGB LVC</td>\n",
       "      <td>5000</td>\n",
       "      <td>5000</td>\n",
       "      <td>0</td>\n",
       "    </tr>\n",
       "    <tr>\n",
       "      <th>1</th>\n",
       "      <td>2020-04-01</td>\n",
       "      <td>Manish</td>\n",
       "      <td>SSGB LVC</td>\n",
       "      <td>5000</td>\n",
       "      <td>5000</td>\n",
       "      <td>0</td>\n",
       "    </tr>\n",
       "    <tr>\n",
       "      <th>2</th>\n",
       "      <td>2020-04-01</td>\n",
       "      <td>Manish</td>\n",
       "      <td>SSGB LVC</td>\n",
       "      <td>5000</td>\n",
       "      <td>5000</td>\n",
       "      <td>0</td>\n",
       "    </tr>\n",
       "    <tr>\n",
       "      <th>3</th>\n",
       "      <td>2020-04-01</td>\n",
       "      <td>Manish</td>\n",
       "      <td>SSGB LVC</td>\n",
       "      <td>5000</td>\n",
       "      <td>5000</td>\n",
       "      <td>0</td>\n",
       "    </tr>\n",
       "    <tr>\n",
       "      <th>4</th>\n",
       "      <td>2020-04-01</td>\n",
       "      <td>Manish</td>\n",
       "      <td>SSGB LVC</td>\n",
       "      <td>5000</td>\n",
       "      <td>5000</td>\n",
       "      <td>0</td>\n",
       "    </tr>\n",
       "  </tbody>\n",
       "</table>\n",
       "</div>"
      ],
      "text/plain": [
       "        Date Councellor Name Course Type Fees Received Fees Total Fees Pending\n",
       "0 2020-04-01          Manish    SSGB LVC          5000       5000            0\n",
       "1 2020-04-01          Manish    SSGB LVC          5000       5000            0\n",
       "2 2020-04-01          Manish    SSGB LVC          5000       5000            0\n",
       "3 2020-04-01          Manish    SSGB LVC          5000       5000            0\n",
       "4 2020-04-01          Manish    SSGB LVC          5000       5000            0"
      ]
     },
     "execution_count": 3,
     "metadata": {},
     "output_type": "execute_result"
    }
   ],
   "source": [
    "data.head()"
   ]
  },
  {
   "cell_type": "code",
   "execution_count": 4,
   "id": "65b022f0",
   "metadata": {},
   "outputs": [
    {
     "data": {
      "text/plain": [
       "Date                16\n",
       "Councellor Name     49\n",
       "Course Type         57\n",
       "Fees Received       52\n",
       "Fees Total          56\n",
       "Fees Pending       572\n",
       "dtype: int64"
      ]
     },
     "execution_count": 4,
     "metadata": {},
     "output_type": "execute_result"
    }
   ],
   "source": [
    "data.isnull().sum()"
   ]
  },
  {
   "cell_type": "code",
   "execution_count": 5,
   "id": "d7bd56a1",
   "metadata": {},
   "outputs": [
    {
     "data": {
      "text/plain": [
       "Manish             290\n",
       "Naveen             126\n",
       "Ruby               107\n",
       "Ankit              104\n",
       "Tarun               92\n",
       "Abhishek            84\n",
       "Vipin               81\n",
       "Samreen             81\n",
       "Abhishek C          64\n",
       "Sonam               57\n",
       "Akansha             57\n",
       "Simran              53\n",
       "Priyanka            52\n",
       "Khalid              50\n",
       "Nimra               34\n",
       "Sakshi              21\n",
       "Suyal               20\n",
       "Vineeta             18\n",
       "akansha             15\n",
       "Deepender           12\n",
       "vipin                5\n",
       "Sonali               4\n",
       "Deepti               3\n",
       "Pankaj               3\n",
       "Ujjal                2\n",
       "Councellor Name      1\n",
       "Consultant           1\n",
       "Name: Councellor Name, dtype: int64"
      ]
     },
     "execution_count": 5,
     "metadata": {},
     "output_type": "execute_result"
    }
   ],
   "source": [
    "data['Councellor Name'].value_counts()"
   ]
  },
  {
   "cell_type": "code",
   "execution_count": 6,
   "id": "97ba8fb5",
   "metadata": {},
   "outputs": [],
   "source": [
    "indexNames = data[ (data['Councellor Name'] == 'Councellor Name') | (data['Councellor Name'] == 'Consultant')].index\n",
    "# Delete these row indexes from dataFrame\n",
    "data.drop(indexNames , inplace=True)"
   ]
  },
  {
   "cell_type": "code",
   "execution_count": 7,
   "id": "60f1a05b",
   "metadata": {},
   "outputs": [
    {
     "data": {
      "text/plain": [
       "Manish        290\n",
       "Naveen        126\n",
       "Ruby          107\n",
       "Ankit         104\n",
       "Tarun          92\n",
       "Abhishek       84\n",
       "Vipin          81\n",
       "Samreen        81\n",
       "Abhishek C     64\n",
       "Sonam          57\n",
       "Akansha        57\n",
       "Simran         53\n",
       "Priyanka       52\n",
       "Khalid         50\n",
       "Nimra          34\n",
       "Sakshi         21\n",
       "Suyal          20\n",
       "Vineeta        18\n",
       "akansha        15\n",
       "Deepender      12\n",
       "vipin           5\n",
       "Sonali          4\n",
       "Deepti          3\n",
       "Pankaj          3\n",
       "Ujjal           2\n",
       "Name: Councellor Name, dtype: int64"
      ]
     },
     "execution_count": 7,
     "metadata": {},
     "output_type": "execute_result"
    }
   ],
   "source": [
    "data['Councellor Name'].value_counts()"
   ]
  },
  {
   "cell_type": "code",
   "execution_count": 8,
   "id": "36dc62f8",
   "metadata": {},
   "outputs": [
    {
     "data": {
      "text/plain": [
       "SSGB                      786\n",
       "SSGB LVC                  452\n",
       "SSGBLVC                    26\n",
       "PMP                        15\n",
       "SS GB                      12\n",
       "                         ... \n",
       "SSGBLvc                     1\n",
       "SSGB-Tableau                1\n",
       "SSGB & Tableau              1\n",
       "SSGB+Advanced Excel SP      1\n",
       "finance Analytics           1\n",
       "Name: Course Type, Length: 91, dtype: int64"
      ]
     },
     "execution_count": 8,
     "metadata": {},
     "output_type": "execute_result"
    }
   ],
   "source": [
    "data['Course Type'].value_counts()"
   ]
  },
  {
   "cell_type": "code",
   "execution_count": 9,
   "id": "7a86566e",
   "metadata": {},
   "outputs": [
    {
     "data": {
      "text/plain": [
       "array(['SSGB LVC', 'CDCW', 'CDCW & DM', nan, 'CBAP', 'Content Services',\n",
       "       'SSGB', 'Self', 'SSGBLVC', 'Agile', 'TEEN MBA', 'SS GB',\n",
       "       'Teen MBA', 'SSGBLvc', 'Business Analytics', 'Power BI', 'Content',\n",
       "       'TEEn MBA', 'PMP', 'GST', 'SSBB', 'SSGB & SSBB', 'SSGB & BA',\n",
       "       'COMBO', 'RPA LVC', 'MBB', 'ID', 'SSGB +BA', 'SSGb', 'Tableue',\n",
       "       'SSGB+Tableau', 'SSGB + BA', 'SSGB & Tableau\\n', 'SSGB & Tableau',\n",
       "       'CDM', 'RPA', 'Analytics', 'SSGB+BA', 'SSGB & CAPM', 'SSGB & PMP',\n",
       "       'GB+Agile', 'BA', 'SSGB & AE', 'SSGB + agile', 'SSGB + Agile',\n",
       "       'CDCDW', 'CMAP', 'Tableau', 'Technical writing', 'SSGB-SSBB',\n",
       "       'SAP-FICO', 'R-CMAP', 'CFAP', 'SSGB-CFAP', 'SSGB-Tableau',\n",
       "       'SAP-MM', 'SSGB-PMP', 'SSGB-', 'SSGB+MW', 'finance Analytics',\n",
       "       'LMS EXtension', 'CI4S', 'SSGB+Python for Data Science',\n",
       "       'Marketing Analytics', 'CTW', 'SAP FICO', 'Business Intelligence',\n",
       "       'SSGB+ Agile project', 'SSGB+HR payroll', 'VSM', 'SSGB+SAP MM',\n",
       "       'PMC', 'Technical Writing', 'CPFA with python',\n",
       "       'SSGB+ industry 4.0', 'SSGB+Agile project management SP',\n",
       "       'SSGB+Advanced Excel SP', 'SSGB+Industry 4.0',\n",
       "       'SSGB+BA with pyton', 'HR Payroll', 'Instructional', 'SSGB+BB',\n",
       "       'Digital Marketing', 'Insudtry 4.0', 'PMP and PGMP',\n",
       "       'Lean Practitioner', 'IFRS', 'SSGB+ Industry4.0',\n",
       "       'SSGB+Advn Excel', 'SSGB+BA with R', 'Lean practioner',\n",
       "       '7Qc tools'], dtype=object)"
      ]
     },
     "execution_count": 9,
     "metadata": {},
     "output_type": "execute_result"
    }
   ],
   "source": [
    "data['Course Type'].unique()"
   ]
  },
  {
   "cell_type": "code",
   "execution_count": 10,
   "id": "a785650b",
   "metadata": {},
   "outputs": [],
   "source": [
    "data = data[data['Councellor Name'].notna() & data['Course Type'].notna()]"
   ]
  },
  {
   "cell_type": "code",
   "execution_count": 11,
   "id": "25965c53",
   "metadata": {},
   "outputs": [
    {
     "data": {
      "text/plain": [
       "Date                 0\n",
       "Councellor Name      0\n",
       "Course Type          0\n",
       "Fees Received        1\n",
       "Fees Total           4\n",
       "Fees Pending       525\n",
       "dtype: int64"
      ]
     },
     "execution_count": 11,
     "metadata": {},
     "output_type": "execute_result"
    }
   ],
   "source": [
    "data.isnull().sum()"
   ]
  },
  {
   "cell_type": "code",
   "execution_count": 12,
   "id": "6035c7b1",
   "metadata": {},
   "outputs": [],
   "source": [
    "data = data[data['Fees Received'].notna() & data['Fees Total'].notna()]"
   ]
  },
  {
   "cell_type": "code",
   "execution_count": 13,
   "id": "03edfd89",
   "metadata": {},
   "outputs": [
    {
     "data": {
      "text/plain": [
       "Date                 0\n",
       "Councellor Name      0\n",
       "Course Type          0\n",
       "Fees Received        0\n",
       "Fees Total           0\n",
       "Fees Pending       521\n",
       "dtype: int64"
      ]
     },
     "execution_count": 13,
     "metadata": {},
     "output_type": "execute_result"
    }
   ],
   "source": [
    "data.isnull().sum()"
   ]
  },
  {
   "cell_type": "code",
   "execution_count": 14,
   "id": "d5e59506",
   "metadata": {},
   "outputs": [
    {
     "data": {
      "text/plain": [
       "(1421, 6)"
      ]
     },
     "execution_count": 14,
     "metadata": {},
     "output_type": "execute_result"
    }
   ],
   "source": [
    "data.shape"
   ]
  },
  {
   "cell_type": "code",
   "execution_count": 15,
   "id": "1e3b89bf",
   "metadata": {},
   "outputs": [
    {
     "data": {
      "text/html": [
       "<div>\n",
       "<style scoped>\n",
       "    .dataframe tbody tr th:only-of-type {\n",
       "        vertical-align: middle;\n",
       "    }\n",
       "\n",
       "    .dataframe tbody tr th {\n",
       "        vertical-align: top;\n",
       "    }\n",
       "\n",
       "    .dataframe thead th {\n",
       "        text-align: right;\n",
       "    }\n",
       "</style>\n",
       "<table border=\"1\" class=\"dataframe\">\n",
       "  <thead>\n",
       "    <tr style=\"text-align: right;\">\n",
       "      <th></th>\n",
       "      <th>Date</th>\n",
       "      <th>Councellor Name</th>\n",
       "      <th>Course Type</th>\n",
       "      <th>Fees Received</th>\n",
       "      <th>Fees Total</th>\n",
       "      <th>Fees Pending</th>\n",
       "    </tr>\n",
       "  </thead>\n",
       "  <tbody>\n",
       "    <tr>\n",
       "      <th>0</th>\n",
       "      <td>2020-04-01</td>\n",
       "      <td>Manish</td>\n",
       "      <td>SSGB LVC</td>\n",
       "      <td>5000</td>\n",
       "      <td>5000</td>\n",
       "      <td>0</td>\n",
       "    </tr>\n",
       "    <tr>\n",
       "      <th>1</th>\n",
       "      <td>2020-04-01</td>\n",
       "      <td>Manish</td>\n",
       "      <td>SSGB LVC</td>\n",
       "      <td>5000</td>\n",
       "      <td>5000</td>\n",
       "      <td>0</td>\n",
       "    </tr>\n",
       "    <tr>\n",
       "      <th>2</th>\n",
       "      <td>2020-04-01</td>\n",
       "      <td>Manish</td>\n",
       "      <td>SSGB LVC</td>\n",
       "      <td>5000</td>\n",
       "      <td>5000</td>\n",
       "      <td>0</td>\n",
       "    </tr>\n",
       "    <tr>\n",
       "      <th>3</th>\n",
       "      <td>2020-04-01</td>\n",
       "      <td>Manish</td>\n",
       "      <td>SSGB LVC</td>\n",
       "      <td>5000</td>\n",
       "      <td>5000</td>\n",
       "      <td>0</td>\n",
       "    </tr>\n",
       "    <tr>\n",
       "      <th>4</th>\n",
       "      <td>2020-04-01</td>\n",
       "      <td>Manish</td>\n",
       "      <td>SSGB LVC</td>\n",
       "      <td>5000</td>\n",
       "      <td>5000</td>\n",
       "      <td>0</td>\n",
       "    </tr>\n",
       "  </tbody>\n",
       "</table>\n",
       "</div>"
      ],
      "text/plain": [
       "        Date Councellor Name Course Type Fees Received Fees Total Fees Pending\n",
       "0 2020-04-01          Manish    SSGB LVC          5000       5000            0\n",
       "1 2020-04-01          Manish    SSGB LVC          5000       5000            0\n",
       "2 2020-04-01          Manish    SSGB LVC          5000       5000            0\n",
       "3 2020-04-01          Manish    SSGB LVC          5000       5000            0\n",
       "4 2020-04-01          Manish    SSGB LVC          5000       5000            0"
      ]
     },
     "execution_count": 15,
     "metadata": {},
     "output_type": "execute_result"
    }
   ],
   "source": [
    "data.head()"
   ]
  },
  {
   "cell_type": "code",
   "execution_count": 16,
   "id": "6d3d7ca2",
   "metadata": {},
   "outputs": [
    {
     "data": {
      "text/html": [
       "<div>\n",
       "<style scoped>\n",
       "    .dataframe tbody tr th:only-of-type {\n",
       "        vertical-align: middle;\n",
       "    }\n",
       "\n",
       "    .dataframe tbody tr th {\n",
       "        vertical-align: top;\n",
       "    }\n",
       "\n",
       "    .dataframe thead th {\n",
       "        text-align: right;\n",
       "    }\n",
       "</style>\n",
       "<table border=\"1\" class=\"dataframe\">\n",
       "  <thead>\n",
       "    <tr style=\"text-align: right;\">\n",
       "      <th></th>\n",
       "      <th>Date</th>\n",
       "      <th>Councellor Name</th>\n",
       "      <th>Course Type</th>\n",
       "      <th>Fees Received</th>\n",
       "      <th>Fees Total</th>\n",
       "      <th>Fees Pending</th>\n",
       "    </tr>\n",
       "  </thead>\n",
       "  <tbody>\n",
       "    <tr>\n",
       "      <th>1465</th>\n",
       "      <td>2021-07-01</td>\n",
       "      <td>Priyanka</td>\n",
       "      <td>SSGB</td>\n",
       "      <td>8500</td>\n",
       "      <td>8500</td>\n",
       "      <td>NaN</td>\n",
       "    </tr>\n",
       "    <tr>\n",
       "      <th>1466</th>\n",
       "      <td>2021-07-01</td>\n",
       "      <td>Ankit</td>\n",
       "      <td>SSGB</td>\n",
       "      <td>15750</td>\n",
       "      <td>15750</td>\n",
       "      <td>NaN</td>\n",
       "    </tr>\n",
       "    <tr>\n",
       "      <th>1467</th>\n",
       "      <td>2021-07-01</td>\n",
       "      <td>Samreen</td>\n",
       "      <td>CBAP</td>\n",
       "      <td>16350</td>\n",
       "      <td>16350</td>\n",
       "      <td>NaN</td>\n",
       "    </tr>\n",
       "    <tr>\n",
       "      <th>1468</th>\n",
       "      <td>2021-07-01</td>\n",
       "      <td>Sonam</td>\n",
       "      <td>SSGB</td>\n",
       "      <td>14225</td>\n",
       "      <td>14225</td>\n",
       "      <td>NaN</td>\n",
       "    </tr>\n",
       "    <tr>\n",
       "      <th>1469</th>\n",
       "      <td>2021-07-01</td>\n",
       "      <td>Sonali</td>\n",
       "      <td>SSGB</td>\n",
       "      <td>10500</td>\n",
       "      <td>10500</td>\n",
       "      <td>NaN</td>\n",
       "    </tr>\n",
       "  </tbody>\n",
       "</table>\n",
       "</div>"
      ],
      "text/plain": [
       "           Date Councellor Name Course Type Fees Received Fees Total  \\\n",
       "1465 2021-07-01        Priyanka        SSGB          8500       8500   \n",
       "1466 2021-07-01           Ankit        SSGB         15750      15750   \n",
       "1467 2021-07-01         Samreen        CBAP         16350      16350   \n",
       "1468 2021-07-01           Sonam        SSGB         14225      14225   \n",
       "1469 2021-07-01          Sonali        SSGB         10500      10500   \n",
       "\n",
       "     Fees Pending  \n",
       "1465          NaN  \n",
       "1466          NaN  \n",
       "1467          NaN  \n",
       "1468          NaN  \n",
       "1469          NaN  "
      ]
     },
     "execution_count": 16,
     "metadata": {},
     "output_type": "execute_result"
    }
   ],
   "source": [
    "data.tail()"
   ]
  },
  {
   "cell_type": "code",
   "execution_count": 17,
   "id": "2521da04",
   "metadata": {},
   "outputs": [
    {
     "data": {
      "text/plain": [
       "0                                            882\n",
       "6125                                           3\n",
       "10000                                          2\n",
       "9000                                           1\n",
       "4400                                           1\n",
       "7500                                           1\n",
       "6000                                           1\n",
       "5000                                           1\n",
       "Dues cleared by Naveen in Oct ssgb             1\n",
       "dues cleared in oct by naveen, coloumn 43      1\n",
       "14750                                          1\n",
       "3500                                           1\n",
       "-8500                                          1\n",
       "12500                                          1\n",
       "dues cleared in OCT by Naveen. coloumn 44      1\n",
       "12000                                          1\n",
       "Name: Fees Pending, dtype: int64"
      ]
     },
     "execution_count": 17,
     "metadata": {},
     "output_type": "execute_result"
    }
   ],
   "source": [
    "data['Fees Pending'].value_counts()"
   ]
  },
  {
   "cell_type": "code",
   "execution_count": 18,
   "id": "c0b7907b",
   "metadata": {},
   "outputs": [],
   "source": [
    "data=data.drop(['Fees Pending'], axis = 1)"
   ]
  },
  {
   "cell_type": "code",
   "execution_count": 19,
   "id": "93154378",
   "metadata": {},
   "outputs": [
    {
     "data": {
      "text/plain": [
       "Date               0\n",
       "Councellor Name    0\n",
       "Course Type        0\n",
       "Fees Received      0\n",
       "Fees Total         0\n",
       "dtype: int64"
      ]
     },
     "execution_count": 19,
     "metadata": {},
     "output_type": "execute_result"
    }
   ],
   "source": [
    "data.isnull().sum()"
   ]
  },
  {
   "cell_type": "code",
   "execution_count": 20,
   "id": "536a4584",
   "metadata": {},
   "outputs": [
    {
     "data": {
      "text/plain": [
       "(1421, 5)"
      ]
     },
     "execution_count": 20,
     "metadata": {},
     "output_type": "execute_result"
    }
   ],
   "source": [
    "data.shape"
   ]
  },
  {
   "cell_type": "code",
   "execution_count": 21,
   "id": "1fd84735",
   "metadata": {},
   "outputs": [
    {
     "data": {
      "text/html": [
       "<div>\n",
       "<style scoped>\n",
       "    .dataframe tbody tr th:only-of-type {\n",
       "        vertical-align: middle;\n",
       "    }\n",
       "\n",
       "    .dataframe tbody tr th {\n",
       "        vertical-align: top;\n",
       "    }\n",
       "\n",
       "    .dataframe thead th {\n",
       "        text-align: right;\n",
       "    }\n",
       "</style>\n",
       "<table border=\"1\" class=\"dataframe\">\n",
       "  <thead>\n",
       "    <tr style=\"text-align: right;\">\n",
       "      <th></th>\n",
       "      <th>Date</th>\n",
       "      <th>Councellor Name</th>\n",
       "      <th>Course Type</th>\n",
       "      <th>Fees Received</th>\n",
       "      <th>Fees Total</th>\n",
       "    </tr>\n",
       "  </thead>\n",
       "  <tbody>\n",
       "    <tr>\n",
       "      <th>0</th>\n",
       "      <td>2020-04-01</td>\n",
       "      <td>Manish</td>\n",
       "      <td>SSGB LVC</td>\n",
       "      <td>5000</td>\n",
       "      <td>5000</td>\n",
       "    </tr>\n",
       "    <tr>\n",
       "      <th>1</th>\n",
       "      <td>2020-04-01</td>\n",
       "      <td>Manish</td>\n",
       "      <td>SSGB LVC</td>\n",
       "      <td>5000</td>\n",
       "      <td>5000</td>\n",
       "    </tr>\n",
       "    <tr>\n",
       "      <th>2</th>\n",
       "      <td>2020-04-01</td>\n",
       "      <td>Manish</td>\n",
       "      <td>SSGB LVC</td>\n",
       "      <td>5000</td>\n",
       "      <td>5000</td>\n",
       "    </tr>\n",
       "    <tr>\n",
       "      <th>3</th>\n",
       "      <td>2020-04-01</td>\n",
       "      <td>Manish</td>\n",
       "      <td>SSGB LVC</td>\n",
       "      <td>5000</td>\n",
       "      <td>5000</td>\n",
       "    </tr>\n",
       "    <tr>\n",
       "      <th>4</th>\n",
       "      <td>2020-04-01</td>\n",
       "      <td>Manish</td>\n",
       "      <td>SSGB LVC</td>\n",
       "      <td>5000</td>\n",
       "      <td>5000</td>\n",
       "    </tr>\n",
       "  </tbody>\n",
       "</table>\n",
       "</div>"
      ],
      "text/plain": [
       "        Date Councellor Name Course Type Fees Received Fees Total\n",
       "0 2020-04-01          Manish    SSGB LVC          5000       5000\n",
       "1 2020-04-01          Manish    SSGB LVC          5000       5000\n",
       "2 2020-04-01          Manish    SSGB LVC          5000       5000\n",
       "3 2020-04-01          Manish    SSGB LVC          5000       5000\n",
       "4 2020-04-01          Manish    SSGB LVC          5000       5000"
      ]
     },
     "execution_count": 21,
     "metadata": {},
     "output_type": "execute_result"
    }
   ],
   "source": [
    "data.head()"
   ]
  },
  {
   "cell_type": "code",
   "execution_count": 22,
   "id": "fc93995f",
   "metadata": {},
   "outputs": [
    {
     "data": {
      "text/plain": [
       "SSGB                 783\n",
       "SSGB LVC             450\n",
       "SSGBLVC               26\n",
       "PMP                   15\n",
       "SS GB                 12\n",
       "                    ... \n",
       "SSGB-SSBB              1\n",
       "SSGBLvc                1\n",
       "SSGB-Tableau           1\n",
       "SSGB & Tableau         1\n",
       "finance Analytics      1\n",
       "Name: Course Type, Length: 90, dtype: int64"
      ]
     },
     "execution_count": 22,
     "metadata": {},
     "output_type": "execute_result"
    }
   ],
   "source": [
    "data['Course Type'].value_counts()"
   ]
  },
  {
   "cell_type": "code",
   "execution_count": 23,
   "id": "ab70e621",
   "metadata": {},
   "outputs": [],
   "source": [
    "data=data.replace(to_replace =\"SSGBLVC\",\n",
    "                 value =\"SSGB LVC\")"
   ]
  },
  {
   "cell_type": "code",
   "execution_count": 24,
   "id": "0f2a366a",
   "metadata": {},
   "outputs": [
    {
     "data": {
      "text/plain": [
       "SSGB                 783\n",
       "SSGB LVC             476\n",
       "PMP                   15\n",
       "SS GB                 12\n",
       "RPA                   11\n",
       "                    ... \n",
       "SSGB-SSBB              1\n",
       "SSGBLvc                1\n",
       "SSGB-Tableau           1\n",
       "SSGB & Tableau         1\n",
       "finance Analytics      1\n",
       "Name: Course Type, Length: 89, dtype: int64"
      ]
     },
     "execution_count": 24,
     "metadata": {},
     "output_type": "execute_result"
    }
   ],
   "source": [
    "data['Course Type'].value_counts()"
   ]
  },
  {
   "cell_type": "code",
   "execution_count": 25,
   "id": "ff2ea612",
   "metadata": {},
   "outputs": [],
   "source": [
    "data=data.replace(to_replace =\"SS GB\",\n",
    "                 value =\"SSGB\")"
   ]
  },
  {
   "cell_type": "code",
   "execution_count": 26,
   "id": "1a48fc0a",
   "metadata": {},
   "outputs": [
    {
     "data": {
      "text/plain": [
       "SSGB                 795\n",
       "SSGB LVC             476\n",
       "PMP                   15\n",
       "RPA                   11\n",
       "SSGB+Advn Excel        7\n",
       "                    ... \n",
       "SSGB-SSBB              1\n",
       "SSGBLvc                1\n",
       "SSGB-Tableau           1\n",
       "SSGB & Tableau         1\n",
       "finance Analytics      1\n",
       "Name: Course Type, Length: 88, dtype: int64"
      ]
     },
     "execution_count": 26,
     "metadata": {},
     "output_type": "execute_result"
    }
   ],
   "source": [
    "data['Course Type'].value_counts()"
   ]
  },
  {
   "cell_type": "code",
   "execution_count": 27,
   "id": "d3712b47",
   "metadata": {},
   "outputs": [
    {
     "name": "stdout",
     "output_type": "stream",
     "text": [
      "<class 'pandas.core.frame.DataFrame'>\n",
      "Int64Index: 1421 entries, 0 to 1469\n",
      "Data columns (total 5 columns):\n",
      " #   Column           Non-Null Count  Dtype         \n",
      "---  ------           --------------  -----         \n",
      " 0   Date             1421 non-null   datetime64[ns]\n",
      " 1   Councellor Name  1421 non-null   object        \n",
      " 2   Course Type      1421 non-null   object        \n",
      " 3   Fees Received    1421 non-null   int64         \n",
      " 4   Fees Total       1421 non-null   int64         \n",
      "dtypes: datetime64[ns](1), int64(2), object(2)\n",
      "memory usage: 66.6+ KB\n"
     ]
    }
   ],
   "source": [
    "data.info()"
   ]
  },
  {
   "cell_type": "code",
   "execution_count": 28,
   "id": "ad30f54c",
   "metadata": {},
   "outputs": [
    {
     "data": {
      "text/plain": [
       "0        5000\n",
       "1        5000\n",
       "2        5000\n",
       "3        5000\n",
       "4        5000\n",
       "        ...  \n",
       "1465     8500\n",
       "1466    15750\n",
       "1467    16350\n",
       "1468    14225\n",
       "1469    10500\n",
       "Name: Fees Total, Length: 1421, dtype: int64"
      ]
     },
     "execution_count": 28,
     "metadata": {},
     "output_type": "execute_result"
    }
   ],
   "source": [
    "pd.to_numeric(data['Fees Total'])"
   ]
  },
  {
   "cell_type": "code",
   "execution_count": 29,
   "id": "1d29217c",
   "metadata": {},
   "outputs": [
    {
     "data": {
      "text/html": [
       "<div>\n",
       "<style scoped>\n",
       "    .dataframe tbody tr th:only-of-type {\n",
       "        vertical-align: middle;\n",
       "    }\n",
       "\n",
       "    .dataframe tbody tr th {\n",
       "        vertical-align: top;\n",
       "    }\n",
       "\n",
       "    .dataframe thead th {\n",
       "        text-align: right;\n",
       "    }\n",
       "</style>\n",
       "<table border=\"1\" class=\"dataframe\">\n",
       "  <thead>\n",
       "    <tr style=\"text-align: right;\">\n",
       "      <th></th>\n",
       "      <th>Fees Received</th>\n",
       "      <th>Fees Total</th>\n",
       "    </tr>\n",
       "  </thead>\n",
       "  <tbody>\n",
       "    <tr>\n",
       "      <th>count</th>\n",
       "      <td>1421.000000</td>\n",
       "      <td>1421.000000</td>\n",
       "    </tr>\n",
       "    <tr>\n",
       "      <th>mean</th>\n",
       "      <td>11990.006334</td>\n",
       "      <td>12141.816327</td>\n",
       "    </tr>\n",
       "    <tr>\n",
       "      <th>std</th>\n",
       "      <td>4012.912465</td>\n",
       "      <td>4034.610304</td>\n",
       "    </tr>\n",
       "    <tr>\n",
       "      <th>min</th>\n",
       "      <td>0.000000</td>\n",
       "      <td>0.000000</td>\n",
       "    </tr>\n",
       "    <tr>\n",
       "      <th>25%</th>\n",
       "      <td>10000.000000</td>\n",
       "      <td>10000.000000</td>\n",
       "    </tr>\n",
       "    <tr>\n",
       "      <th>50%</th>\n",
       "      <td>12000.000000</td>\n",
       "      <td>12000.000000</td>\n",
       "    </tr>\n",
       "    <tr>\n",
       "      <th>75%</th>\n",
       "      <td>14000.000000</td>\n",
       "      <td>14000.000000</td>\n",
       "    </tr>\n",
       "    <tr>\n",
       "      <th>max</th>\n",
       "      <td>40000.000000</td>\n",
       "      <td>40000.000000</td>\n",
       "    </tr>\n",
       "  </tbody>\n",
       "</table>\n",
       "</div>"
      ],
      "text/plain": [
       "       Fees Received    Fees Total\n",
       "count    1421.000000   1421.000000\n",
       "mean    11990.006334  12141.816327\n",
       "std      4012.912465   4034.610304\n",
       "min         0.000000      0.000000\n",
       "25%     10000.000000  10000.000000\n",
       "50%     12000.000000  12000.000000\n",
       "75%     14000.000000  14000.000000\n",
       "max     40000.000000  40000.000000"
      ]
     },
     "execution_count": 29,
     "metadata": {},
     "output_type": "execute_result"
    }
   ],
   "source": [
    "data.describe()"
   ]
  },
  {
   "cell_type": "code",
   "execution_count": 30,
   "id": "e955b3dc",
   "metadata": {},
   "outputs": [
    {
     "data": {
      "text/plain": [
       "Date               0\n",
       "Councellor Name    0\n",
       "Course Type        0\n",
       "Fees Received      0\n",
       "Fees Total         0\n",
       "dtype: int64"
      ]
     },
     "execution_count": 30,
     "metadata": {},
     "output_type": "execute_result"
    }
   ],
   "source": [
    "data.isnull().sum()"
   ]
  },
  {
   "cell_type": "code",
   "execution_count": 31,
   "id": "cfebdcb5",
   "metadata": {},
   "outputs": [
    {
     "data": {
      "text/plain": [
       "(1421, 5)"
      ]
     },
     "execution_count": 31,
     "metadata": {},
     "output_type": "execute_result"
    }
   ],
   "source": [
    "data.shape"
   ]
  },
  {
   "cell_type": "code",
   "execution_count": 32,
   "id": "c8458699",
   "metadata": {},
   "outputs": [],
   "source": [
    "data['year'] = pd.DatetimeIndex(data['Date']).year\n",
    "data['month'] = pd.DatetimeIndex(data['Date']).month"
   ]
  },
  {
   "cell_type": "code",
   "execution_count": 33,
   "id": "54247f58",
   "metadata": {},
   "outputs": [
    {
     "data": {
      "text/html": [
       "<div>\n",
       "<style scoped>\n",
       "    .dataframe tbody tr th:only-of-type {\n",
       "        vertical-align: middle;\n",
       "    }\n",
       "\n",
       "    .dataframe tbody tr th {\n",
       "        vertical-align: top;\n",
       "    }\n",
       "\n",
       "    .dataframe thead th {\n",
       "        text-align: right;\n",
       "    }\n",
       "</style>\n",
       "<table border=\"1\" class=\"dataframe\">\n",
       "  <thead>\n",
       "    <tr style=\"text-align: right;\">\n",
       "      <th></th>\n",
       "      <th>Date</th>\n",
       "      <th>Councellor Name</th>\n",
       "      <th>Course Type</th>\n",
       "      <th>Fees Received</th>\n",
       "      <th>Fees Total</th>\n",
       "      <th>year</th>\n",
       "      <th>month</th>\n",
       "    </tr>\n",
       "  </thead>\n",
       "  <tbody>\n",
       "    <tr>\n",
       "      <th>0</th>\n",
       "      <td>2020-04-01</td>\n",
       "      <td>Manish</td>\n",
       "      <td>SSGB LVC</td>\n",
       "      <td>5000</td>\n",
       "      <td>5000</td>\n",
       "      <td>2020</td>\n",
       "      <td>4</td>\n",
       "    </tr>\n",
       "    <tr>\n",
       "      <th>1</th>\n",
       "      <td>2020-04-01</td>\n",
       "      <td>Manish</td>\n",
       "      <td>SSGB LVC</td>\n",
       "      <td>5000</td>\n",
       "      <td>5000</td>\n",
       "      <td>2020</td>\n",
       "      <td>4</td>\n",
       "    </tr>\n",
       "    <tr>\n",
       "      <th>2</th>\n",
       "      <td>2020-04-01</td>\n",
       "      <td>Manish</td>\n",
       "      <td>SSGB LVC</td>\n",
       "      <td>5000</td>\n",
       "      <td>5000</td>\n",
       "      <td>2020</td>\n",
       "      <td>4</td>\n",
       "    </tr>\n",
       "    <tr>\n",
       "      <th>3</th>\n",
       "      <td>2020-04-01</td>\n",
       "      <td>Manish</td>\n",
       "      <td>SSGB LVC</td>\n",
       "      <td>5000</td>\n",
       "      <td>5000</td>\n",
       "      <td>2020</td>\n",
       "      <td>4</td>\n",
       "    </tr>\n",
       "    <tr>\n",
       "      <th>4</th>\n",
       "      <td>2020-04-01</td>\n",
       "      <td>Manish</td>\n",
       "      <td>SSGB LVC</td>\n",
       "      <td>5000</td>\n",
       "      <td>5000</td>\n",
       "      <td>2020</td>\n",
       "      <td>4</td>\n",
       "    </tr>\n",
       "  </tbody>\n",
       "</table>\n",
       "</div>"
      ],
      "text/plain": [
       "        Date Councellor Name Course Type  Fees Received  Fees Total  year  \\\n",
       "0 2020-04-01          Manish    SSGB LVC           5000        5000  2020   \n",
       "1 2020-04-01          Manish    SSGB LVC           5000        5000  2020   \n",
       "2 2020-04-01          Manish    SSGB LVC           5000        5000  2020   \n",
       "3 2020-04-01          Manish    SSGB LVC           5000        5000  2020   \n",
       "4 2020-04-01          Manish    SSGB LVC           5000        5000  2020   \n",
       "\n",
       "   month  \n",
       "0      4  \n",
       "1      4  \n",
       "2      4  \n",
       "3      4  \n",
       "4      4  "
      ]
     },
     "execution_count": 33,
     "metadata": {},
     "output_type": "execute_result"
    }
   ],
   "source": [
    "data.head()"
   ]
  },
  {
   "cell_type": "code",
   "execution_count": 34,
   "id": "e299c683",
   "metadata": {},
   "outputs": [
    {
     "data": {
      "text/html": [
       "<div>\n",
       "<style scoped>\n",
       "    .dataframe tbody tr th:only-of-type {\n",
       "        vertical-align: middle;\n",
       "    }\n",
       "\n",
       "    .dataframe tbody tr th {\n",
       "        vertical-align: top;\n",
       "    }\n",
       "\n",
       "    .dataframe thead th {\n",
       "        text-align: right;\n",
       "    }\n",
       "</style>\n",
       "<table border=\"1\" class=\"dataframe\">\n",
       "  <thead>\n",
       "    <tr style=\"text-align: right;\">\n",
       "      <th></th>\n",
       "      <th>Date</th>\n",
       "      <th>Councellor Name</th>\n",
       "      <th>Course Type</th>\n",
       "      <th>Fees Received</th>\n",
       "      <th>Fees Total</th>\n",
       "      <th>year</th>\n",
       "      <th>month</th>\n",
       "    </tr>\n",
       "  </thead>\n",
       "  <tbody>\n",
       "    <tr>\n",
       "      <th>1465</th>\n",
       "      <td>2021-07-01</td>\n",
       "      <td>Priyanka</td>\n",
       "      <td>SSGB</td>\n",
       "      <td>8500</td>\n",
       "      <td>8500</td>\n",
       "      <td>2021</td>\n",
       "      <td>7</td>\n",
       "    </tr>\n",
       "    <tr>\n",
       "      <th>1466</th>\n",
       "      <td>2021-07-01</td>\n",
       "      <td>Ankit</td>\n",
       "      <td>SSGB</td>\n",
       "      <td>15750</td>\n",
       "      <td>15750</td>\n",
       "      <td>2021</td>\n",
       "      <td>7</td>\n",
       "    </tr>\n",
       "    <tr>\n",
       "      <th>1467</th>\n",
       "      <td>2021-07-01</td>\n",
       "      <td>Samreen</td>\n",
       "      <td>CBAP</td>\n",
       "      <td>16350</td>\n",
       "      <td>16350</td>\n",
       "      <td>2021</td>\n",
       "      <td>7</td>\n",
       "    </tr>\n",
       "    <tr>\n",
       "      <th>1468</th>\n",
       "      <td>2021-07-01</td>\n",
       "      <td>Sonam</td>\n",
       "      <td>SSGB</td>\n",
       "      <td>14225</td>\n",
       "      <td>14225</td>\n",
       "      <td>2021</td>\n",
       "      <td>7</td>\n",
       "    </tr>\n",
       "    <tr>\n",
       "      <th>1469</th>\n",
       "      <td>2021-07-01</td>\n",
       "      <td>Sonali</td>\n",
       "      <td>SSGB</td>\n",
       "      <td>10500</td>\n",
       "      <td>10500</td>\n",
       "      <td>2021</td>\n",
       "      <td>7</td>\n",
       "    </tr>\n",
       "  </tbody>\n",
       "</table>\n",
       "</div>"
      ],
      "text/plain": [
       "           Date Councellor Name Course Type  Fees Received  Fees Total  year  \\\n",
       "1465 2021-07-01        Priyanka        SSGB           8500        8500  2021   \n",
       "1466 2021-07-01           Ankit        SSGB          15750       15750  2021   \n",
       "1467 2021-07-01         Samreen        CBAP          16350       16350  2021   \n",
       "1468 2021-07-01           Sonam        SSGB          14225       14225  2021   \n",
       "1469 2021-07-01          Sonali        SSGB          10500       10500  2021   \n",
       "\n",
       "      month  \n",
       "1465      7  \n",
       "1466      7  \n",
       "1467      7  \n",
       "1468      7  \n",
       "1469      7  "
      ]
     },
     "execution_count": 34,
     "metadata": {},
     "output_type": "execute_result"
    }
   ],
   "source": [
    "data.tail()"
   ]
  },
  {
   "cell_type": "code",
   "execution_count": 35,
   "id": "e6f333e1",
   "metadata": {},
   "outputs": [],
   "source": [
    "file_name = 'SSGB_modified.xlsx'"
   ]
  },
  {
   "cell_type": "code",
   "execution_count": 36,
   "id": "18024a51",
   "metadata": {},
   "outputs": [],
   "source": [
    "data.to_excel(file_name)"
   ]
  },
  {
   "cell_type": "code",
   "execution_count": 37,
   "id": "1d209916",
   "metadata": {},
   "outputs": [],
   "source": [
    "import matplotlib.pyplot as plt\n",
    "import seaborn as sns"
   ]
  },
  {
   "cell_type": "code",
   "execution_count": 38,
   "id": "c2187fd1",
   "metadata": {},
   "outputs": [
    {
     "data": {
      "text/plain": [
       "<AxesSubplot:xlabel='Fees Received'>"
      ]
     },
     "execution_count": 38,
     "metadata": {},
     "output_type": "execute_result"
    },
    {
     "data": {
      "image/png": "[encoded data removed]",
      "text/plain": [
       "<Figure size 1224x360 with 1 Axes>"
      ]
     },
     "metadata": {
      "needs_background": "light"
     },
     "output_type": "display_data"
    }
   ],
   "source": [
    "plt.rcParams['figure.figsize']=(17,5)\n",
    "#checking for outliers using boxplot\n",
    "sns.boxplot(data['Fees Received'], color='brown')"
   ]
  },
  {
   "cell_type": "code",
   "execution_count": 39,
   "id": "ce88a888",
   "metadata": {},
   "outputs": [
    {
     "data": {
      "text/plain": [
       "<AxesSubplot:xlabel='Fees Total'>"
      ]
     },
     "execution_count": 39,
     "metadata": {},
     "output_type": "execute_result"
    },
    {
     "data": {
      "image/png": "[encoded data removed]",
      "text/plain": [
       "<Figure size 1224x360 with 1 Axes>"
      ]
     },
     "metadata": {
      "needs_background": "light"
     },
     "output_type": "display_data"
    }
   ],
   "source": [
    "plt.rcParams['figure.figsize']=(17,5)\n",
    "#checking for outliers using boxplot\n",
    "sns.boxplot(data['Fees Total'], color='brown')"
   ]
  },
  {
   "cell_type": "code",
   "execution_count": 40,
   "id": "8ea36f2f",
   "metadata": {},
   "outputs": [
    {
     "data": {
      "text/plain": [
       "Date               0\n",
       "Councellor Name    0\n",
       "Course Type        0\n",
       "Fees Received      0\n",
       "Fees Total         0\n",
       "year               0\n",
       "month              0\n",
       "dtype: int64"
      ]
     },
     "execution_count": 40,
     "metadata": {},
     "output_type": "execute_result"
    }
   ],
   "source": [
    "data['Fees Total'].loc[(data['Fees Total']>=20000)] = 20000\n",
    "data['Fees Total'].loc[(data['Fees Total']<=5000)] = 5000\n",
    "# lets also check the null values again\n",
    "data.isnull().sum()"
   ]
  },
  {
   "cell_type": "code",
   "execution_count": 41,
   "id": "7b431cd6",
   "metadata": {},
   "outputs": [
    {
     "data": {
      "image/png": "[encoded data removed]",
      "text/plain": [
       "<Figure size 1224x360 with 1 Axes>"
      ]
     },
     "metadata": {
      "needs_background": "light"
     },
     "output_type": "display_data"
    }
   ],
   "source": [
    "plt.rcParams['figure.figsize']=(17,5)\n",
    "sns.boxplot(data['Fees Total'], color='brown')\n",
    "plt.show()"
   ]
  },
  {
   "cell_type": "code",
   "execution_count": 42,
   "id": "72986ca6",
   "metadata": {},
   "outputs": [
    {
     "data": {
      "text/plain": [
       "Date               0\n",
       "Councellor Name    0\n",
       "Course Type        0\n",
       "Fees Received      0\n",
       "Fees Total         0\n",
       "year               0\n",
       "month              0\n",
       "dtype: int64"
      ]
     },
     "execution_count": 42,
     "metadata": {},
     "output_type": "execute_result"
    }
   ],
   "source": [
    "data['Fees Received'].loc[(data['Fees Received']>=20000)] = 20000\n",
    "data['Fees Received'].loc[(data['Fees Received']<=5000)] = 5000\n",
    "# lets also check the null values again\n",
    "data.isnull().sum()"
   ]
  },
  {
   "cell_type": "code",
   "execution_count": 43,
   "id": "f6bd0589",
   "metadata": {},
   "outputs": [
    {
     "data": {
      "image/png": "[encoded data removed]",
      "text/plain": [
       "<Figure size 1224x360 with 1 Axes>"
      ]
     },
     "metadata": {
      "needs_background": "light"
     },
     "output_type": "display_data"
    }
   ],
   "source": [
    "plt.rcParams['figure.figsize']=(17,5)\n",
    "sns.boxplot(data['Fees Received'], color='brown')\n",
    "plt.show()"
   ]
  },
  {
   "cell_type": "code",
   "execution_count": 44,
   "id": "29b672c8",
   "metadata": {},
   "outputs": [],
   "source": [
    "import statsmodels.api as sm"
   ]
  },
  {
   "cell_type": "code",
   "execution_count": 45,
   "id": "3dfdb5e0",
   "metadata": {},
   "outputs": [
    {
     "data": {
      "text/plain": [
       "622500"
      ]
     },
     "execution_count": 45,
     "metadata": {},
     "output_type": "execute_result"
    }
   ],
   "source": [
    "data.loc[(data['year'] == 2020) & (data['month'] == 4), 'Fees Received'].sum() "
   ]
  },
  {
   "cell_type": "code",
   "execution_count": 46,
   "id": "ac3496a2",
   "metadata": {},
   "outputs": [
    {
     "name": "stdout",
     "output_type": "stream",
     "text": [
      "[622500, 836830, 690650, 926397, 884634, 786649, 859650, 863950, 1143300]\n"
     ]
    }
   ],
   "source": [
    "List = []\n",
    "\n",
    "for x in range(4, 13):\n",
    "    List.append(data.loc[(data['year'] == 2020) & (data['month'] == x), 'Fees Total'].sum())\n",
    " \n",
    "print(List)"
   ]
  },
  {
   "cell_type": "code",
   "execution_count": 47,
   "id": "16b19e89",
   "metadata": {},
   "outputs": [
    {
     "name": "stdout",
     "output_type": "stream",
     "text": [
      "[622500, 836830, 690650, 926397, 884634, 786649, 859650, 863950, 1143300, 858998, 1110325, 1249400, 1441730, 1931287, 1747285, 1120995]\n"
     ]
    }
   ],
   "source": [
    "for x in range(1, 8):\n",
    "    List.append(data.loc[(data['year'] == 2021) & (data['month'] == x), 'Fees Total'].sum())\n",
    "    \n",
    "print(List)    "
   ]
  },
  {
   "cell_type": "code",
   "execution_count": 48,
   "id": "97ec6956",
   "metadata": {},
   "outputs": [],
   "source": [
    "List2=['1/4/20','1/5/20','1/6/20','1/7/20','1/8/20','1/9/20','1/10/20','1/11/20','1/12/20','1/1/21','1/2/21','1/3/21','1/4/21','1/5/21','1/6/21','1/7/21']"
   ]
  },
  {
   "cell_type": "code",
   "execution_count": 49,
   "id": "c670577d",
   "metadata": {},
   "outputs": [
    {
     "data": {
      "text/plain": [
       "['1/4/20',\n",
       " '1/5/20',\n",
       " '1/6/20',\n",
       " '1/7/20',\n",
       " '1/8/20',\n",
       " '1/9/20',\n",
       " '1/10/20',\n",
       " '1/11/20',\n",
       " '1/12/20',\n",
       " '1/1/21',\n",
       " '1/2/21',\n",
       " '1/3/21',\n",
       " '1/4/21',\n",
       " '1/5/21',\n",
       " '1/6/21',\n",
       " '1/7/21']"
      ]
     },
     "execution_count": 49,
     "metadata": {},
     "output_type": "execute_result"
    }
   ],
   "source": [
    "from datetime import datetime\n",
    "\n",
    "for i in List2:\n",
    "    i=datetime.strptime(i, '%d/%m/%y')\n",
    "    \n",
    "List2    "
   ]
  },
  {
   "cell_type": "code",
   "execution_count": 50,
   "id": "970938e7",
   "metadata": {},
   "outputs": [
    {
     "data": {
      "text/html": [
       "<div>\n",
       "<style scoped>\n",
       "    .dataframe tbody tr th:only-of-type {\n",
       "        vertical-align: middle;\n",
       "    }\n",
       "\n",
       "    .dataframe tbody tr th {\n",
       "        vertical-align: top;\n",
       "    }\n",
       "\n",
       "    .dataframe thead th {\n",
       "        text-align: right;\n",
       "    }\n",
       "</style>\n",
       "<table border=\"1\" class=\"dataframe\">\n",
       "  <thead>\n",
       "    <tr style=\"text-align: right;\">\n",
       "      <th></th>\n",
       "      <th>Dates</th>\n",
       "      <th>Revenue</th>\n",
       "    </tr>\n",
       "  </thead>\n",
       "  <tbody>\n",
       "    <tr>\n",
       "      <th>0</th>\n",
       "      <td>1/4/20</td>\n",
       "      <td>622500</td>\n",
       "    </tr>\n",
       "    <tr>\n",
       "      <th>1</th>\n",
       "      <td>1/5/20</td>\n",
       "      <td>836830</td>\n",
       "    </tr>\n",
       "    <tr>\n",
       "      <th>2</th>\n",
       "      <td>1/6/20</td>\n",
       "      <td>690650</td>\n",
       "    </tr>\n",
       "    <tr>\n",
       "      <th>3</th>\n",
       "      <td>1/7/20</td>\n",
       "      <td>926397</td>\n",
       "    </tr>\n",
       "    <tr>\n",
       "      <th>4</th>\n",
       "      <td>1/8/20</td>\n",
       "      <td>884634</td>\n",
       "    </tr>\n",
       "    <tr>\n",
       "      <th>5</th>\n",
       "      <td>1/9/20</td>\n",
       "      <td>786649</td>\n",
       "    </tr>\n",
       "    <tr>\n",
       "      <th>6</th>\n",
       "      <td>1/10/20</td>\n",
       "      <td>859650</td>\n",
       "    </tr>\n",
       "    <tr>\n",
       "      <th>7</th>\n",
       "      <td>1/11/20</td>\n",
       "      <td>863950</td>\n",
       "    </tr>\n",
       "    <tr>\n",
       "      <th>8</th>\n",
       "      <td>1/12/20</td>\n",
       "      <td>1143300</td>\n",
       "    </tr>\n",
       "    <tr>\n",
       "      <th>9</th>\n",
       "      <td>1/1/21</td>\n",
       "      <td>858998</td>\n",
       "    </tr>\n",
       "    <tr>\n",
       "      <th>10</th>\n",
       "      <td>1/2/21</td>\n",
       "      <td>1110325</td>\n",
       "    </tr>\n",
       "    <tr>\n",
       "      <th>11</th>\n",
       "      <td>1/3/21</td>\n",
       "      <td>1249400</td>\n",
       "    </tr>\n",
       "    <tr>\n",
       "      <th>12</th>\n",
       "      <td>1/4/21</td>\n",
       "      <td>1441730</td>\n",
       "    </tr>\n",
       "    <tr>\n",
       "      <th>13</th>\n",
       "      <td>1/5/21</td>\n",
       "      <td>1931287</td>\n",
       "    </tr>\n",
       "    <tr>\n",
       "      <th>14</th>\n",
       "      <td>1/6/21</td>\n",
       "      <td>1747285</td>\n",
       "    </tr>\n",
       "    <tr>\n",
       "      <th>15</th>\n",
       "      <td>1/7/21</td>\n",
       "      <td>1120995</td>\n",
       "    </tr>\n",
       "  </tbody>\n",
       "</table>\n",
       "</div>"
      ],
      "text/plain": [
       "      Dates  Revenue\n",
       "0    1/4/20   622500\n",
       "1    1/5/20   836830\n",
       "2    1/6/20   690650\n",
       "3    1/7/20   926397\n",
       "4    1/8/20   884634\n",
       "5    1/9/20   786649\n",
       "6   1/10/20   859650\n",
       "7   1/11/20   863950\n",
       "8   1/12/20  1143300\n",
       "9    1/1/21   858998\n",
       "10   1/2/21  1110325\n",
       "11   1/3/21  1249400\n",
       "12   1/4/21  1441730\n",
       "13   1/5/21  1931287\n",
       "14   1/6/21  1747285\n",
       "15   1/7/21  1120995"
      ]
     },
     "execution_count": 50,
     "metadata": {},
     "output_type": "execute_result"
    }
   ],
   "source": [
    "df = pd.DataFrame(list(zip(List2, List)),\n",
    "               columns =['Dates', 'Revenue'])\n",
    "df"
   ]
  },
  {
   "cell_type": "code",
   "execution_count": 51,
   "id": "d14def2a",
   "metadata": {},
   "outputs": [],
   "source": [
    "Data=[622500, 836830, 690650, 926397, 884634, 786649, 859650, 863950, 1143300, 858998, 1110325, 1249400, 1441730, 1931287, 1747285, 1120995]"
   ]
  },
  {
   "cell_type": "code",
   "execution_count": 52,
   "id": "56f9d8ad",
   "metadata": {},
   "outputs": [],
   "source": [
    "index= pd.date_range(start='2020-04-01', end='2021-07-01', freq='MS')\n",
    "revenue = pd.Series(Data, index)"
   ]
  },
  {
   "cell_type": "code",
   "execution_count": 53,
   "id": "8608da5c",
   "metadata": {},
   "outputs": [
    {
     "data": {
      "text/plain": [
       "2020-04-01     622500\n",
       "2020-05-01     836830\n",
       "2020-06-01     690650\n",
       "2020-07-01     926397\n",
       "2020-08-01     884634\n",
       "2020-09-01     786649\n",
       "2020-10-01     859650\n",
       "2020-11-01     863950\n",
       "2020-12-01    1143300\n",
       "2021-01-01     858998\n",
       "2021-02-01    1110325\n",
       "2021-03-01    1249400\n",
       "2021-04-01    1441730\n",
       "2021-05-01    1931287\n",
       "2021-06-01    1747285\n",
       "2021-07-01    1120995\n",
       "Freq: MS, dtype: int64"
      ]
     },
     "execution_count": 53,
     "metadata": {},
     "output_type": "execute_result"
    }
   ],
   "source": [
    "revenue"
   ]
  },
  {
   "cell_type": "code",
   "execution_count": 54,
   "id": "bdb1a351",
   "metadata": {},
   "outputs": [
    {
     "data": {
      "text/plain": [
       "<matplotlib.legend.Legend at 0x2263d904520>"
      ]
     },
     "execution_count": 54,
     "metadata": {},
     "output_type": "execute_result"
    },
    {
     "data": {
      "image/png": "[encoded data removed]",
      "text/plain": [
       "<Figure size 1080x720 with 1 Axes>"
      ]
     },
     "metadata": {
      "needs_background": "light"
     },
     "output_type": "display_data"
    }
   ],
   "source": [
    "plt.figure(figsize=[15,10])\n",
    "plt.grid(True)\n",
    "plt.plot(revenue,label='data')\n",
    "plt.legend(loc=2)"
   ]
  },
  {
   "cell_type": "code",
   "execution_count": 55,
   "id": "3ce1d2c0",
   "metadata": {},
   "outputs": [
    {
     "name": "stderr",
     "output_type": "stream",
     "text": [
      "E:\\HenryHarvin\\lib\\site-packages\\statsmodels\\tsa\\holtwinters\\model.py:920: ConvergenceWarning: Optimization failed to converge. Check mle_retvals.\n",
      "  warnings.warn(\n"
     ]
    }
   ],
   "source": [
    "from statsmodels.tsa.api import ExponentialSmoothing\n",
    "fit1 = ExponentialSmoothing(revenue, seasonal_periods=5, trend='multiplicative', seasonal='additive').fit(smoothing_level=0.94,smoothing_trend=0.01)"
   ]
  },
  {
   "cell_type": "code",
   "execution_count": 56,
   "id": "8e8678ab",
   "metadata": {},
   "outputs": [
    {
     "data": {
      "text/plain": [
       "2020-04-01    6.465411e+05\n",
       "2020-05-01    8.621253e+05\n",
       "2020-06-01    7.157847e+05\n",
       "2020-07-01    9.512856e+05\n",
       "2020-08-01    9.092735e+05\n",
       "2020-09-01    6.467723e+05\n",
       "2020-10-01    1.020913e+06\n",
       "2020-11-01    7.468627e+05\n",
       "2020-12-01    1.121011e+06\n",
       "2021-01-01    1.130056e+06\n",
       "2021-02-01    6.356809e+05\n",
       "2021-03-01    1.334647e+06\n",
       "2021-04-01    1.147759e+06\n",
       "2021-05-01    1.709813e+06\n",
       "2021-06-01    1.935567e+06\n",
       "2021-07-01    1.556300e+06\n",
       "Freq: MS, dtype: float64"
      ]
     },
     "execution_count": 56,
     "metadata": {},
     "output_type": "execute_result"
    }
   ],
   "source": [
    "fit1.fittedvalues"
   ]
  },
  {
   "cell_type": "code",
   "execution_count": 57,
   "id": "e766831f",
   "metadata": {},
   "outputs": [
    {
     "data": {
      "text/plain": [
       "2021-08-01    1.398291e+06\n",
       "2021-09-01    1.297743e+06\n",
       "2021-10-01    1.576215e+06\n",
       "2021-11-01    1.575749e+06\n",
       "2021-12-01    1.365088e+06\n",
       "2022-01-01    1.622532e+06\n",
       "2022-02-01    1.528430e+06\n",
       "2022-03-01    1.813533e+06\n",
       "2022-04-01    1.819891e+06\n",
       "2022-05-01    1.616248e+06\n",
       "Freq: MS, dtype: float64"
      ]
     },
     "execution_count": 57,
     "metadata": {},
     "output_type": "execute_result"
    }
   ],
   "source": [
    "fcast1 = fit1.forecast(10)\n",
    "fcast1"
   ]
  },
  {
   "cell_type": "code",
   "execution_count": 58,
   "id": "fc580227",
   "metadata": {},
   "outputs": [
    {
     "data": {
      "text/plain": [
       "<matplotlib.legend.Legend at 0x2263d9defd0>"
      ]
     },
     "execution_count": 58,
     "metadata": {},
     "output_type": "execute_result"
    },
    {
     "data": {
      "image/png": "[encoded data removed]",
      "text/plain": [
       "<Figure size 1080x576 with 1 Axes>"
      ]
     },
     "metadata": {
      "needs_background": "light"
     },
     "output_type": "display_data"
    }
   ],
   "source": [
    "plt.figure(figsize=[15,8])\n",
    "plt.grid(True)\n",
    "plt.plot(revenue,label='past data')\n",
    "plt.plot(fcast1,label='forecast')\n",
    "x_values = [revenue.index[-1], fcast1.index[0]]\n",
    "y_values = [revenue[-1], fcast1[0]]\n",
    "plt.plot(x_values, y_values)\n",
    "plt.legend(loc=2)"
   ]
  },
  {
   "cell_type": "code",
   "execution_count": 59,
   "id": "4c73952c",
   "metadata": {},
   "outputs": [
    {
     "data": {
      "text/html": [
       "<div>\n",
       "<style scoped>\n",
       "    .dataframe tbody tr th:only-of-type {\n",
       "        vertical-align: middle;\n",
       "    }\n",
       "\n",
       "    .dataframe tbody tr th {\n",
       "        vertical-align: top;\n",
       "    }\n",
       "\n",
       "    .dataframe thead th {\n",
       "        text-align: right;\n",
       "    }\n",
       "</style>\n",
       "<table border=\"1\" class=\"dataframe\">\n",
       "  <thead>\n",
       "    <tr style=\"text-align: right;\">\n",
       "      <th></th>\n",
       "      <th>Date</th>\n",
       "      <th>Councellor Name</th>\n",
       "      <th>Course Type</th>\n",
       "      <th>Fees Received</th>\n",
       "      <th>Fees Total</th>\n",
       "      <th>year</th>\n",
       "      <th>month</th>\n",
       "    </tr>\n",
       "  </thead>\n",
       "  <tbody>\n",
       "    <tr>\n",
       "      <th>469</th>\n",
       "      <td>2020-10-01</td>\n",
       "      <td>Ankit</td>\n",
       "      <td>SSGB</td>\n",
       "      <td>12000</td>\n",
       "      <td>12000</td>\n",
       "      <td>2020</td>\n",
       "      <td>10</td>\n",
       "    </tr>\n",
       "    <tr>\n",
       "      <th>470</th>\n",
       "      <td>2020-10-01</td>\n",
       "      <td>Ankit</td>\n",
       "      <td>SSBB</td>\n",
       "      <td>20000</td>\n",
       "      <td>20000</td>\n",
       "      <td>2020</td>\n",
       "      <td>10</td>\n",
       "    </tr>\n",
       "    <tr>\n",
       "      <th>474</th>\n",
       "      <td>2020-10-01</td>\n",
       "      <td>Ankit</td>\n",
       "      <td>SSGB</td>\n",
       "      <td>15000</td>\n",
       "      <td>15000</td>\n",
       "      <td>2020</td>\n",
       "      <td>10</td>\n",
       "    </tr>\n",
       "    <tr>\n",
       "      <th>475</th>\n",
       "      <td>2020-10-01</td>\n",
       "      <td>Ankit</td>\n",
       "      <td>SSGB</td>\n",
       "      <td>12000</td>\n",
       "      <td>12000</td>\n",
       "      <td>2020</td>\n",
       "      <td>10</td>\n",
       "    </tr>\n",
       "    <tr>\n",
       "      <th>481</th>\n",
       "      <td>2020-10-01</td>\n",
       "      <td>Ankit</td>\n",
       "      <td>SSGB &amp; SSBB</td>\n",
       "      <td>12500</td>\n",
       "      <td>20000</td>\n",
       "      <td>2020</td>\n",
       "      <td>10</td>\n",
       "    </tr>\n",
       "    <tr>\n",
       "      <th>...</th>\n",
       "      <td>...</td>\n",
       "      <td>...</td>\n",
       "      <td>...</td>\n",
       "      <td>...</td>\n",
       "      <td>...</td>\n",
       "      <td>...</td>\n",
       "      <td>...</td>\n",
       "    </tr>\n",
       "    <tr>\n",
       "      <th>1427</th>\n",
       "      <td>2021-07-01</td>\n",
       "      <td>Ankit</td>\n",
       "      <td>SSGB</td>\n",
       "      <td>17500</td>\n",
       "      <td>17500</td>\n",
       "      <td>2021</td>\n",
       "      <td>7</td>\n",
       "    </tr>\n",
       "    <tr>\n",
       "      <th>1438</th>\n",
       "      <td>2021-07-01</td>\n",
       "      <td>Ankit</td>\n",
       "      <td>SSGB</td>\n",
       "      <td>17500</td>\n",
       "      <td>17500</td>\n",
       "      <td>2021</td>\n",
       "      <td>7</td>\n",
       "    </tr>\n",
       "    <tr>\n",
       "      <th>1439</th>\n",
       "      <td>2021-07-01</td>\n",
       "      <td>Ankit</td>\n",
       "      <td>7Qc tools</td>\n",
       "      <td>5000</td>\n",
       "      <td>5000</td>\n",
       "      <td>2021</td>\n",
       "      <td>7</td>\n",
       "    </tr>\n",
       "    <tr>\n",
       "      <th>1452</th>\n",
       "      <td>2021-07-01</td>\n",
       "      <td>Ankit</td>\n",
       "      <td>SSGB</td>\n",
       "      <td>8500</td>\n",
       "      <td>8500</td>\n",
       "      <td>2021</td>\n",
       "      <td>7</td>\n",
       "    </tr>\n",
       "    <tr>\n",
       "      <th>1466</th>\n",
       "      <td>2021-07-01</td>\n",
       "      <td>Ankit</td>\n",
       "      <td>SSGB</td>\n",
       "      <td>15750</td>\n",
       "      <td>15750</td>\n",
       "      <td>2021</td>\n",
       "      <td>7</td>\n",
       "    </tr>\n",
       "  </tbody>\n",
       "</table>\n",
       "<p>103 rows × 7 columns</p>\n",
       "</div>"
      ],
      "text/plain": [
       "           Date Councellor Name  Course Type  Fees Received  Fees Total  year  \\\n",
       "469  2020-10-01           Ankit         SSGB          12000       12000  2020   \n",
       "470  2020-10-01           Ankit         SSBB          20000       20000  2020   \n",
       "474  2020-10-01           Ankit         SSGB          15000       15000  2020   \n",
       "475  2020-10-01           Ankit         SSGB          12000       12000  2020   \n",
       "481  2020-10-01           Ankit  SSGB & SSBB          12500       20000  2020   \n",
       "...         ...             ...          ...            ...         ...   ...   \n",
       "1427 2021-07-01           Ankit         SSGB          17500       17500  2021   \n",
       "1438 2021-07-01           Ankit         SSGB          17500       17500  2021   \n",
       "1439 2021-07-01           Ankit    7Qc tools           5000        5000  2021   \n",
       "1452 2021-07-01           Ankit         SSGB           8500        8500  2021   \n",
       "1466 2021-07-01           Ankit         SSGB          15750       15750  2021   \n",
       "\n",
       "      month  \n",
       "469      10  \n",
       "470      10  \n",
       "474      10  \n",
       "475      10  \n",
       "481      10  \n",
       "...     ...  \n",
       "1427      7  \n",
       "1438      7  \n",
       "1439      7  \n",
       "1452      7  \n",
       "1466      7  \n",
       "\n",
       "[103 rows x 7 columns]"
      ]
     },
     "execution_count": 59,
     "metadata": {},
     "output_type": "execute_result"
    }
   ],
   "source": [
    "data1 = data[data['Councellor Name'] == 'Ankit']\n",
    "data1"
   ]
  },
  {
   "cell_type": "code",
   "execution_count": 60,
   "id": "b8ae3b0c",
   "metadata": {},
   "outputs": [
    {
     "name": "stdout",
     "output_type": "stream",
     "text": [
      "[0, 0, 0, 0, 0, 0, 197250, 97750, 145750]\n"
     ]
    }
   ],
   "source": [
    "A = []\n",
    "\n",
    "for x in range(4, 13):\n",
    "    A.append(data1.loc[(data['year'] == 2020) & (data['month'] == x), 'Fees Total'].sum())\n",
    " \n",
    "print(A)"
   ]
  },
  {
   "cell_type": "code",
   "execution_count": 61,
   "id": "6f17b720",
   "metadata": {},
   "outputs": [
    {
     "name": "stdout",
     "output_type": "stream",
     "text": [
      "[0, 0, 0, 0, 0, 0, 197250, 97750, 145750, 177623, 134450, 108000, 134500, 183000, 152625, 84250]\n"
     ]
    }
   ],
   "source": [
    "for x in range(1, 8):\n",
    "    A.append(data1.loc[(data['year'] == 2021) & (data['month'] == x), 'Fees Total'].sum())\n",
    "    \n",
    "print(A)   "
   ]
  },
  {
   "cell_type": "code",
   "execution_count": 62,
   "id": "34c032bb",
   "metadata": {},
   "outputs": [
    {
     "data": {
      "text/plain": [
       "2020-04-01         0\n",
       "2020-05-01         0\n",
       "2020-06-01         0\n",
       "2020-07-01         0\n",
       "2020-08-01         0\n",
       "2020-09-01         0\n",
       "2020-10-01    197250\n",
       "2020-11-01     97750\n",
       "2020-12-01    145750\n",
       "2021-01-01    177623\n",
       "2021-02-01    134450\n",
       "2021-03-01    108000\n",
       "2021-04-01    134500\n",
       "2021-05-01    183000\n",
       "2021-06-01    152625\n",
       "2021-07-01     84250\n",
       "Freq: MS, dtype: int64"
      ]
     },
     "execution_count": 62,
     "metadata": {},
     "output_type": "execute_result"
    }
   ],
   "source": [
    "index= pd.date_range(start='2020-04-01', end='2021-07-01', freq='MS')\n",
    "revenueByAnkit = pd.Series(A, index)\n",
    "revenueByAnkit"
   ]
  },
  {
   "cell_type": "code",
   "execution_count": 63,
   "id": "ffc4a174",
   "metadata": {},
   "outputs": [
    {
     "name": "stderr",
     "output_type": "stream",
     "text": [
      "E:\\HenryHarvin\\lib\\site-packages\\statsmodels\\tsa\\holtwinters\\model.py:920: ConvergenceWarning: Optimization failed to converge. Check mle_retvals.\n",
      "  warnings.warn(\n"
     ]
    }
   ],
   "source": [
    "from statsmodels.tsa.api import ExponentialSmoothing\n",
    "fit2 = ExponentialSmoothing(revenueByAnkit, seasonal_periods=5, trend='additive', seasonal='additive').fit(smoothing_level=0.94,smoothing_trend=0.01)"
   ]
  },
  {
   "cell_type": "code",
   "execution_count": 64,
   "id": "40711ce0",
   "metadata": {},
   "outputs": [
    {
     "data": {
      "text/plain": [
       "2020-04-01    -23230.614733\n",
       "2020-05-01     38867.600277\n",
       "2020-06-01    -25574.207240\n",
       "2020-07-01     17574.582750\n",
       "2020-08-01      1798.620360\n",
       "2020-09-01    -28695.727306\n",
       "2020-10-01     36908.103910\n",
       "2020-11-01    163212.897176\n",
       "2020-12-01    120658.533348\n",
       "2021-01-01    146774.232918\n",
       "2021-02-01    149438.759302\n",
       "2021-03-01    178635.765507\n",
       "2021-04-01     81130.028767\n",
       "2021-05-01    152826.032111\n",
       "2021-06-01    184137.512403\n",
       "2021-07-01    126689.862345\n",
       "Freq: MS, dtype: float64"
      ]
     },
     "execution_count": 64,
     "metadata": {},
     "output_type": "execute_result"
    }
   ],
   "source": [
    "fit2.fittedvalues"
   ]
  },
  {
   "cell_type": "code",
   "execution_count": 65,
   "id": "f759cb0f",
   "metadata": {},
   "outputs": [
    {
     "data": {
      "text/plain": [
       "2021-08-01    128080.376296\n",
       "2021-09-01    100246.051012\n",
       "2021-10-01    120767.247412\n",
       "2021-11-01    121436.352691\n",
       "2021-12-01     94020.558422\n",
       "2022-01-01    135304.542977\n",
       "2022-02-01    107470.217693\n",
       "2022-03-01    127991.414093\n",
       "2022-04-01    128660.519373\n",
       "2022-05-01    101244.725103\n",
       "Freq: MS, dtype: float64"
      ]
     },
     "execution_count": 65,
     "metadata": {},
     "output_type": "execute_result"
    }
   ],
   "source": [
    "fcast2 = fit2.forecast(10)\n",
    "fcast2"
   ]
  },
  {
   "cell_type": "code",
   "execution_count": 66,
   "id": "8cd9d0da",
   "metadata": {},
   "outputs": [
    {
     "data": {
      "text/plain": [
       "<matplotlib.legend.Legend at 0x2263dc00a90>"
      ]
     },
     "execution_count": 66,
     "metadata": {},
     "output_type": "execute_result"
    },
    {
     "data": {
      "image/png": "[encoded data removed]",
      "text/plain": [
       "<Figure size 1080x576 with 1 Axes>"
      ]
     },
     "metadata": {
      "needs_background": "light"
     },
     "output_type": "display_data"
    }
   ],
   "source": [
    "plt.figure(figsize=[15,8])\n",
    "plt.grid(True)\n",
    "plt.plot(revenueByAnkit,label='past data')\n",
    "plt.plot(fcast2,label='forecast')\n",
    "x_values = [revenueByAnkit.index[-1], fcast2.index[0]]\n",
    "y_values = [revenueByAnkit[-1], fcast2[0]]\n",
    "plt.plot(x_values, y_values)\n",
    "plt.legend(loc=2)"
   ]
  },
  {
   "cell_type": "code",
   "execution_count": 67,
   "id": "09231427",
   "metadata": {},
   "outputs": [
    {
     "data": {
      "text/html": [
       "<div>\n",
       "<style scoped>\n",
       "    .dataframe tbody tr th:only-of-type {\n",
       "        vertical-align: middle;\n",
       "    }\n",
       "\n",
       "    .dataframe tbody tr th {\n",
       "        vertical-align: top;\n",
       "    }\n",
       "\n",
       "    .dataframe thead th {\n",
       "        text-align: right;\n",
       "    }\n",
       "</style>\n",
       "<table border=\"1\" class=\"dataframe\">\n",
       "  <thead>\n",
       "    <tr style=\"text-align: right;\">\n",
       "      <th></th>\n",
       "      <th>Date</th>\n",
       "      <th>Councellor Name</th>\n",
       "      <th>Course Type</th>\n",
       "      <th>Fees Received</th>\n",
       "      <th>Fees Total</th>\n",
       "      <th>year</th>\n",
       "      <th>month</th>\n",
       "    </tr>\n",
       "  </thead>\n",
       "  <tbody>\n",
       "    <tr>\n",
       "      <th>748</th>\n",
       "      <td>2021-01-01</td>\n",
       "      <td>Vipin</td>\n",
       "      <td>SSGB</td>\n",
       "      <td>10000</td>\n",
       "      <td>10000</td>\n",
       "      <td>2021</td>\n",
       "      <td>1</td>\n",
       "    </tr>\n",
       "    <tr>\n",
       "      <th>764</th>\n",
       "      <td>2021-01-01</td>\n",
       "      <td>Vipin</td>\n",
       "      <td>SSGB</td>\n",
       "      <td>12250</td>\n",
       "      <td>12250</td>\n",
       "      <td>2021</td>\n",
       "      <td>1</td>\n",
       "    </tr>\n",
       "    <tr>\n",
       "      <th>777</th>\n",
       "      <td>2021-02-01</td>\n",
       "      <td>Vipin</td>\n",
       "      <td>SSGB</td>\n",
       "      <td>14000</td>\n",
       "      <td>14000</td>\n",
       "      <td>2021</td>\n",
       "      <td>2</td>\n",
       "    </tr>\n",
       "    <tr>\n",
       "      <th>784</th>\n",
       "      <td>2021-02-01</td>\n",
       "      <td>Vipin</td>\n",
       "      <td>SSGB</td>\n",
       "      <td>15750</td>\n",
       "      <td>15750</td>\n",
       "      <td>2021</td>\n",
       "      <td>2</td>\n",
       "    </tr>\n",
       "    <tr>\n",
       "      <th>804</th>\n",
       "      <td>2021-02-01</td>\n",
       "      <td>Vipin</td>\n",
       "      <td>SSGB</td>\n",
       "      <td>10000</td>\n",
       "      <td>10000</td>\n",
       "      <td>2021</td>\n",
       "      <td>2</td>\n",
       "    </tr>\n",
       "    <tr>\n",
       "      <th>...</th>\n",
       "      <td>...</td>\n",
       "      <td>...</td>\n",
       "      <td>...</td>\n",
       "      <td>...</td>\n",
       "      <td>...</td>\n",
       "      <td>...</td>\n",
       "      <td>...</td>\n",
       "    </tr>\n",
       "    <tr>\n",
       "      <th>1413</th>\n",
       "      <td>2021-07-01</td>\n",
       "      <td>Vipin</td>\n",
       "      <td>SSGB+Advn Excel</td>\n",
       "      <td>15750</td>\n",
       "      <td>15750</td>\n",
       "      <td>2021</td>\n",
       "      <td>7</td>\n",
       "    </tr>\n",
       "    <tr>\n",
       "      <th>1414</th>\n",
       "      <td>2021-07-01</td>\n",
       "      <td>Vipin</td>\n",
       "      <td>SSGB+Advn Excel</td>\n",
       "      <td>15750</td>\n",
       "      <td>15750</td>\n",
       "      <td>2021</td>\n",
       "      <td>7</td>\n",
       "    </tr>\n",
       "    <tr>\n",
       "      <th>1416</th>\n",
       "      <td>2021-07-01</td>\n",
       "      <td>Vipin</td>\n",
       "      <td>SSGB+Advn Excel</td>\n",
       "      <td>17500</td>\n",
       "      <td>17500</td>\n",
       "      <td>2021</td>\n",
       "      <td>7</td>\n",
       "    </tr>\n",
       "    <tr>\n",
       "      <th>1418</th>\n",
       "      <td>2021-07-01</td>\n",
       "      <td>Vipin</td>\n",
       "      <td>SSGB+BA with R</td>\n",
       "      <td>7000</td>\n",
       "      <td>14000</td>\n",
       "      <td>2021</td>\n",
       "      <td>7</td>\n",
       "    </tr>\n",
       "    <tr>\n",
       "      <th>1428</th>\n",
       "      <td>2021-07-01</td>\n",
       "      <td>Vipin</td>\n",
       "      <td>SSGB</td>\n",
       "      <td>12250</td>\n",
       "      <td>12250</td>\n",
       "      <td>2021</td>\n",
       "      <td>7</td>\n",
       "    </tr>\n",
       "  </tbody>\n",
       "</table>\n",
       "<p>81 rows × 7 columns</p>\n",
       "</div>"
      ],
      "text/plain": [
       "           Date Councellor Name      Course Type  Fees Received  Fees Total  \\\n",
       "748  2021-01-01           Vipin             SSGB          10000       10000   \n",
       "764  2021-01-01           Vipin             SSGB          12250       12250   \n",
       "777  2021-02-01           Vipin             SSGB          14000       14000   \n",
       "784  2021-02-01           Vipin             SSGB          15750       15750   \n",
       "804  2021-02-01           Vipin             SSGB          10000       10000   \n",
       "...         ...             ...              ...            ...         ...   \n",
       "1413 2021-07-01           Vipin  SSGB+Advn Excel          15750       15750   \n",
       "1414 2021-07-01           Vipin  SSGB+Advn Excel          15750       15750   \n",
       "1416 2021-07-01           Vipin  SSGB+Advn Excel          17500       17500   \n",
       "1418 2021-07-01           Vipin   SSGB+BA with R           7000       14000   \n",
       "1428 2021-07-01           Vipin             SSGB          12250       12250   \n",
       "\n",
       "      year  month  \n",
       "748   2021      1  \n",
       "764   2021      1  \n",
       "777   2021      2  \n",
       "784   2021      2  \n",
       "804   2021      2  \n",
       "...    ...    ...  \n",
       "1413  2021      7  \n",
       "1414  2021      7  \n",
       "1416  2021      7  \n",
       "1418  2021      7  \n",
       "1428  2021      7  \n",
       "\n",
       "[81 rows x 7 columns]"
      ]
     },
     "execution_count": 67,
     "metadata": {},
     "output_type": "execute_result"
    }
   ],
   "source": [
    "data2=data[data['Councellor Name'] == 'Vipin']\n",
    "data2"
   ]
  },
  {
   "cell_type": "code",
   "execution_count": 68,
   "id": "474dfb8d",
   "metadata": {},
   "outputs": [
    {
     "name": "stdout",
     "output_type": "stream",
     "text": [
      "[0, 0, 0, 0, 0, 0, 0, 0, 0]\n"
     ]
    }
   ],
   "source": [
    "B = []\n",
    "\n",
    "for x in range(4, 13):\n",
    "    B.append(data2.loc[(data['year'] == 2020) & (data['month'] == x), 'Fees Total'].sum())\n",
    " \n",
    "print(B)"
   ]
  },
  {
   "cell_type": "code",
   "execution_count": 69,
   "id": "32dcb22a",
   "metadata": {},
   "outputs": [
    {
     "name": "stdout",
     "output_type": "stream",
     "text": [
      "[0, 0, 0, 0, 0, 0, 0, 0, 0, 22250, 52875, 192150, 166000, 329270, 152610, 188125]\n"
     ]
    }
   ],
   "source": [
    "for x in range(1, 8):\n",
    "    B.append(data2.loc[(data['year'] == 2021) & (data['month'] == x), 'Fees Total'].sum())\n",
    "    \n",
    "print(B)  "
   ]
  },
  {
   "cell_type": "code",
   "execution_count": 70,
   "id": "2b0d5472",
   "metadata": {},
   "outputs": [
    {
     "data": {
      "text/plain": [
       "2020-04-01         0\n",
       "2020-05-01         0\n",
       "2020-06-01         0\n",
       "2020-07-01         0\n",
       "2020-08-01         0\n",
       "2020-09-01         0\n",
       "2020-10-01         0\n",
       "2020-11-01         0\n",
       "2020-12-01         0\n",
       "2021-01-01     22250\n",
       "2021-02-01     52875\n",
       "2021-03-01    192150\n",
       "2021-04-01    166000\n",
       "2021-05-01    329270\n",
       "2021-06-01    152610\n",
       "2021-07-01    188125\n",
       "Freq: MS, dtype: int64"
      ]
     },
     "execution_count": 70,
     "metadata": {},
     "output_type": "execute_result"
    }
   ],
   "source": [
    "index= pd.date_range(start='2020-04-01', end='2021-07-01', freq='MS')\n",
    "revenueByVipin = pd.Series(B, index)\n",
    "revenueByVipin"
   ]
  },
  {
   "cell_type": "code",
   "execution_count": 71,
   "id": "607e850a",
   "metadata": {},
   "outputs": [
    {
     "name": "stderr",
     "output_type": "stream",
     "text": [
      "E:\\HenryHarvin\\lib\\site-packages\\statsmodels\\tsa\\holtwinters\\model.py:920: ConvergenceWarning: Optimization failed to converge. Check mle_retvals.\n",
      "  warnings.warn(\n"
     ]
    }
   ],
   "source": [
    "from statsmodels.tsa.api import ExponentialSmoothing\n",
    "fit3 = ExponentialSmoothing(revenueByVipin, seasonal_periods=5, trend='additive', seasonal='additive').fit(smoothing_level=0.94,smoothing_trend=0.01)"
   ]
  },
  {
   "cell_type": "code",
   "execution_count": 72,
   "id": "8754dcf1",
   "metadata": {},
   "outputs": [
    {
     "data": {
      "text/plain": [
       "2020-04-01       890.000000\n",
       "2020-05-01       935.034000\n",
       "2020-06-01       928.946720\n",
       "2020-07-01       919.849384\n",
       "2020-08-01       910.656960\n",
       "2020-09-01       897.095239\n",
       "2020-10-01       892.073671\n",
       "2020-11-01       883.642490\n",
       "2020-12-01       874.845431\n",
       "2021-01-01       866.094535\n",
       "2021-02-01     21977.150039\n",
       "2021-03-01     52325.935289\n",
       "2021-04-01    186379.981266\n",
       "2021-05-01    169650.669081\n",
       "2021-06-01    323732.382305\n",
       "2021-07-01    165240.182519\n",
       "Freq: MS, dtype: float64"
      ]
     },
     "execution_count": 72,
     "metadata": {},
     "output_type": "execute_result"
    }
   ],
   "source": [
    "fit3.fittedvalues"
   ]
  },
  {
   "cell_type": "code",
   "execution_count": 73,
   "id": "38538acd",
   "metadata": {},
   "outputs": [
    {
     "data": {
      "text/plain": [
       "2021-08-01    189831.111297\n",
       "2021-09-01    191564.932993\n",
       "2021-10-01    194999.788360\n",
       "2021-11-01    195992.188845\n",
       "2021-12-01    199425.757621\n",
       "2022-01-01    202504.957967\n",
       "2022-02-01    204238.779664\n",
       "2022-03-01    207673.635031\n",
       "2022-04-01    208666.035515\n",
       "2022-05-01    212099.604292\n",
       "Freq: MS, dtype: float64"
      ]
     },
     "execution_count": 73,
     "metadata": {},
     "output_type": "execute_result"
    }
   ],
   "source": [
    "fcast3 = fit3.forecast(10)\n",
    "fcast3"
   ]
  },
  {
   "cell_type": "code",
   "execution_count": 74,
   "id": "a544365b",
   "metadata": {},
   "outputs": [
    {
     "data": {
      "text/plain": [
       "<matplotlib.legend.Legend at 0x2263dc698b0>"
      ]
     },
     "execution_count": 74,
     "metadata": {},
     "output_type": "execute_result"
    },
    {
     "data": {
      "image/png": "[encoded data removed]",
      "text/plain": [
       "<Figure size 1080x576 with 1 Axes>"
      ]
     },
     "metadata": {
      "needs_background": "light"
     },
     "output_type": "display_data"
    }
   ],
   "source": [
    "plt.figure(figsize=[15,8])\n",
    "plt.grid(True)\n",
    "plt.plot(revenueByVipin,label='past data')\n",
    "plt.plot(fcast3,label='forecast')\n",
    "x_values = [revenueByVipin.index[-1], fcast3.index[0]]\n",
    "y_values = [revenueByVipin[-1], fcast3[0]]\n",
    "plt.plot(x_values, y_values)\n",
    "plt.legend(loc=2)"
   ]
  },
  {
   "cell_type": "code",
   "execution_count": 75,
   "id": "80cf1e78",
   "metadata": {},
   "outputs": [
    {
     "data": {
      "text/html": [
       "<div>\n",
       "<style scoped>\n",
       "    .dataframe tbody tr th:only-of-type {\n",
       "        vertical-align: middle;\n",
       "    }\n",
       "\n",
       "    .dataframe tbody tr th {\n",
       "        vertical-align: top;\n",
       "    }\n",
       "\n",
       "    .dataframe thead th {\n",
       "        text-align: right;\n",
       "    }\n",
       "</style>\n",
       "<table border=\"1\" class=\"dataframe\">\n",
       "  <thead>\n",
       "    <tr style=\"text-align: right;\">\n",
       "      <th></th>\n",
       "      <th>Date</th>\n",
       "      <th>Councellor Name</th>\n",
       "      <th>Course Type</th>\n",
       "      <th>Fees Received</th>\n",
       "      <th>Fees Total</th>\n",
       "      <th>year</th>\n",
       "      <th>month</th>\n",
       "    </tr>\n",
       "  </thead>\n",
       "  <tbody>\n",
       "    <tr>\n",
       "      <th>97</th>\n",
       "      <td>2020-05-01</td>\n",
       "      <td>Abhishek</td>\n",
       "      <td>SSGB</td>\n",
       "      <td>12000</td>\n",
       "      <td>12000</td>\n",
       "      <td>2020</td>\n",
       "      <td>5</td>\n",
       "    </tr>\n",
       "    <tr>\n",
       "      <th>98</th>\n",
       "      <td>2020-05-01</td>\n",
       "      <td>Abhishek</td>\n",
       "      <td>SSGB</td>\n",
       "      <td>12000</td>\n",
       "      <td>12000</td>\n",
       "      <td>2020</td>\n",
       "      <td>5</td>\n",
       "    </tr>\n",
       "    <tr>\n",
       "      <th>99</th>\n",
       "      <td>2020-05-01</td>\n",
       "      <td>Abhishek</td>\n",
       "      <td>SSGB</td>\n",
       "      <td>12000</td>\n",
       "      <td>12000</td>\n",
       "      <td>2020</td>\n",
       "      <td>5</td>\n",
       "    </tr>\n",
       "    <tr>\n",
       "      <th>100</th>\n",
       "      <td>2020-05-01</td>\n",
       "      <td>Abhishek</td>\n",
       "      <td>SSGB</td>\n",
       "      <td>12000</td>\n",
       "      <td>12000</td>\n",
       "      <td>2020</td>\n",
       "      <td>5</td>\n",
       "    </tr>\n",
       "    <tr>\n",
       "      <th>101</th>\n",
       "      <td>2020-05-01</td>\n",
       "      <td>Abhishek</td>\n",
       "      <td>SSGB</td>\n",
       "      <td>15000</td>\n",
       "      <td>15000</td>\n",
       "      <td>2020</td>\n",
       "      <td>5</td>\n",
       "    </tr>\n",
       "    <tr>\n",
       "      <th>...</th>\n",
       "      <td>...</td>\n",
       "      <td>...</td>\n",
       "      <td>...</td>\n",
       "      <td>...</td>\n",
       "      <td>...</td>\n",
       "      <td>...</td>\n",
       "      <td>...</td>\n",
       "    </tr>\n",
       "    <tr>\n",
       "      <th>1464</th>\n",
       "      <td>2021-07-01</td>\n",
       "      <td>Priyanka</td>\n",
       "      <td>SSGB</td>\n",
       "      <td>8500</td>\n",
       "      <td>8500</td>\n",
       "      <td>2021</td>\n",
       "      <td>7</td>\n",
       "    </tr>\n",
       "    <tr>\n",
       "      <th>1465</th>\n",
       "      <td>2021-07-01</td>\n",
       "      <td>Priyanka</td>\n",
       "      <td>SSGB</td>\n",
       "      <td>8500</td>\n",
       "      <td>8500</td>\n",
       "      <td>2021</td>\n",
       "      <td>7</td>\n",
       "    </tr>\n",
       "    <tr>\n",
       "      <th>1466</th>\n",
       "      <td>2021-07-01</td>\n",
       "      <td>Ankit</td>\n",
       "      <td>SSGB</td>\n",
       "      <td>15750</td>\n",
       "      <td>15750</td>\n",
       "      <td>2021</td>\n",
       "      <td>7</td>\n",
       "    </tr>\n",
       "    <tr>\n",
       "      <th>1468</th>\n",
       "      <td>2021-07-01</td>\n",
       "      <td>Sonam</td>\n",
       "      <td>SSGB</td>\n",
       "      <td>14225</td>\n",
       "      <td>14225</td>\n",
       "      <td>2021</td>\n",
       "      <td>7</td>\n",
       "    </tr>\n",
       "    <tr>\n",
       "      <th>1469</th>\n",
       "      <td>2021-07-01</td>\n",
       "      <td>Sonali</td>\n",
       "      <td>SSGB</td>\n",
       "      <td>10500</td>\n",
       "      <td>10500</td>\n",
       "      <td>2021</td>\n",
       "      <td>7</td>\n",
       "    </tr>\n",
       "  </tbody>\n",
       "</table>\n",
       "<p>795 rows × 7 columns</p>\n",
       "</div>"
      ],
      "text/plain": [
       "           Date Councellor Name Course Type  Fees Received  Fees Total  year  \\\n",
       "97   2020-05-01        Abhishek        SSGB          12000       12000  2020   \n",
       "98   2020-05-01        Abhishek        SSGB          12000       12000  2020   \n",
       "99   2020-05-01        Abhishek        SSGB          12000       12000  2020   \n",
       "100  2020-05-01        Abhishek        SSGB          12000       12000  2020   \n",
       "101  2020-05-01        Abhishek        SSGB          15000       15000  2020   \n",
       "...         ...             ...         ...            ...         ...   ...   \n",
       "1464 2021-07-01        Priyanka        SSGB           8500        8500  2021   \n",
       "1465 2021-07-01        Priyanka        SSGB           8500        8500  2021   \n",
       "1466 2021-07-01           Ankit        SSGB          15750       15750  2021   \n",
       "1468 2021-07-01           Sonam        SSGB          14225       14225  2021   \n",
       "1469 2021-07-01          Sonali        SSGB          10500       10500  2021   \n",
       "\n",
       "      month  \n",
       "97        5  \n",
       "98        5  \n",
       "99        5  \n",
       "100       5  \n",
       "101       5  \n",
       "...     ...  \n",
       "1464      7  \n",
       "1465      7  \n",
       "1466      7  \n",
       "1468      7  \n",
       "1469      7  \n",
       "\n",
       "[795 rows x 7 columns]"
      ]
     },
     "execution_count": 75,
     "metadata": {},
     "output_type": "execute_result"
    }
   ],
   "source": [
    "data3=data[data['Course Type'] == 'SSGB']\n",
    "data3"
   ]
  },
  {
   "cell_type": "code",
   "execution_count": 76,
   "id": "bf92e83f",
   "metadata": {},
   "outputs": [
    {
     "name": "stdout",
     "output_type": "stream",
     "text": [
      "[0, 63000, 114000, 170500, 104550, 251000, 220700, 0, 1090300]\n"
     ]
    }
   ],
   "source": [
    "C = []\n",
    "\n",
    "for x in range(4, 13):\n",
    "    C.append(data3.loc[(data['year'] == 2020) & (data['month'] == x), 'Fees Total'].sum())\n",
    " \n",
    "print(C)"
   ]
  },
  {
   "cell_type": "code",
   "execution_count": 77,
   "id": "ac47c520",
   "metadata": {},
   "outputs": [
    {
     "name": "stdout",
     "output_type": "stream",
     "text": [
      "[0, 63000, 114000, 170500, 104550, 251000, 220700, 0, 1090300, 673373, 933325, 995025, 1236300, 1696668, 1644535, 872020]\n"
     ]
    }
   ],
   "source": [
    "for x in range(1, 8):\n",
    "    C.append(data3.loc[(data['year'] == 2021) & (data['month'] == x), 'Fees Total'].sum())\n",
    "    \n",
    "print(C) "
   ]
  },
  {
   "cell_type": "code",
   "execution_count": 78,
   "id": "3d63ee10",
   "metadata": {},
   "outputs": [
    {
     "data": {
      "text/plain": [
       "2020-04-01          0\n",
       "2020-05-01      63000\n",
       "2020-06-01     114000\n",
       "2020-07-01     170500\n",
       "2020-08-01     104550\n",
       "2020-09-01     251000\n",
       "2020-10-01     220700\n",
       "2020-11-01          0\n",
       "2020-12-01    1090300\n",
       "2021-01-01     673373\n",
       "2021-02-01     933325\n",
       "2021-03-01     995025\n",
       "2021-04-01    1236300\n",
       "2021-05-01    1696668\n",
       "2021-06-01    1644535\n",
       "2021-07-01     872020\n",
       "Freq: MS, dtype: int64"
      ]
     },
     "execution_count": 78,
     "metadata": {},
     "output_type": "execute_result"
    }
   ],
   "source": [
    "index= pd.date_range(start='2020-04-01', end='2021-07-01', freq='MS')\n",
    "revenueBySSGB = pd.Series(C, index)\n",
    "revenueBySSGB"
   ]
  },
  {
   "cell_type": "code",
   "execution_count": 79,
   "id": "ed6d7617",
   "metadata": {},
   "outputs": [
    {
     "name": "stderr",
     "output_type": "stream",
     "text": [
      "E:\\HenryHarvin\\lib\\site-packages\\statsmodels\\tsa\\holtwinters\\model.py:920: ConvergenceWarning: Optimization failed to converge. Check mle_retvals.\n",
      "  warnings.warn(\n"
     ]
    }
   ],
   "source": [
    "from statsmodels.tsa.api import ExponentialSmoothing\n",
    "fit4 = ExponentialSmoothing(revenueBySSGB, seasonal_periods=5, trend='additive', seasonal='additive').fit(smoothing_level=0.94,smoothing_trend=0.01)"
   ]
  },
  {
   "cell_type": "code",
   "execution_count": 80,
   "id": "b383feee",
   "metadata": {},
   "outputs": [
    {
     "data": {
      "text/plain": [
       "2020-04-01    7.133292e+04\n",
       "2020-05-01    1.379424e+05\n",
       "2020-06-01    1.884545e+05\n",
       "2020-07-01    2.442253e+05\n",
       "2020-08-01    1.775386e+05\n",
       "2020-09-01    7.190160e+04\n",
       "2020-10-01    3.727985e+05\n",
       "2020-11-01    3.489611e+05\n",
       "2020-12-01    1.422938e+05\n",
       "2021-01-01    1.041237e+06\n",
       "2021-02-01    6.621045e+05\n",
       "2021-03-01    1.051233e+06\n",
       "2021-04-01    1.120743e+06\n",
       "2021-05-01    1.365768e+06\n",
       "2021-06-01    1.680812e+06\n",
       "2021-07-01    1.622443e+06\n",
       "Freq: MS, dtype: float64"
      ]
     },
     "execution_count": 80,
     "metadata": {},
     "output_type": "execute_result"
    }
   ],
   "source": [
    "fit4.fittedvalues"
   ]
  },
  {
   "cell_type": "code",
   "execution_count": 81,
   "id": "1953efde",
   "metadata": {},
   "outputs": [
    {
     "data": {
      "text/plain": [
       "2021-08-01    1.045863e+06\n",
       "2021-09-01    1.165869e+06\n",
       "2021-10-01    1.299062e+06\n",
       "2021-11-01    1.293830e+06\n",
       "2021-12-01    1.262689e+06\n",
       "2022-01-01    1.391506e+06\n",
       "2022-02-01    1.511512e+06\n",
       "2022-03-01    1.644706e+06\n",
       "2022-04-01    1.639473e+06\n",
       "2022-05-01    1.608332e+06\n",
       "Freq: MS, dtype: float64"
      ]
     },
     "execution_count": 81,
     "metadata": {},
     "output_type": "execute_result"
    }
   ],
   "source": [
    "fcast4 = fit4.forecast(10)\n",
    "fcast4"
   ]
  },
  {
   "cell_type": "code",
   "execution_count": 82,
   "id": "83f090f2",
   "metadata": {},
   "outputs": [
    {
     "data": {
      "text/plain": [
       "<matplotlib.legend.Legend at 0x2263c053a30>"
      ]
     },
     "execution_count": 82,
     "metadata": {},
     "output_type": "execute_result"
    },
    {
     "data": {
      "image/png": "[encoded data removed]",
      "text/plain": [
       "<Figure size 1080x576 with 1 Axes>"
      ]
     },
     "metadata": {
      "needs_background": "light"
     },
     "output_type": "display_data"
    }
   ],
   "source": [
    "plt.figure(figsize=[15,8])\n",
    "plt.grid(True)\n",
    "plt.plot(revenueBySSGB,label='past data')\n",
    "plt.plot(fcast4,label='forecast')\n",
    "x_values = [revenueBySSGB.index[-1], fcast4.index[0]]\n",
    "y_values = [revenueBySSGB[-1], fcast4[0]]\n",
    "plt.plot(x_values, y_values)\n",
    "plt.legend(loc=2)"
   ]
  },
  {
   "cell_type": "code",
   "execution_count": null,
   "id": "7df052ec",
   "metadata": {},
   "outputs": [],
   "source": []
  }
 ],
 "metadata": {
  "kernelspec": {
   "display_name": "Python 3",
   "language": "python",
   "name": "python3"
  },
  "language_info": {
   "codemirror_mode": {
    "name": "ipython",
    "version": 3
   },
   "file_extension": ".py",
   "mimetype": "text/x-python",
   "name": "python",
   "nbconvert_exporter": "python",
   "pygments_lexer": "ipython3",
   "version": "3.8.8"
  }
 },
 "nbformat": 4,
 "nbformat_minor": 5
}
